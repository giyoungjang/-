{
 "cells": [
  {
   "cell_type": "markdown",
   "id": "e4091b96-5563-4377-8c43-97c1ec2e181a",
   "metadata": {},
   "source": [
    "\n",
    "1/3"
   ]
  },
  {
   "cell_type": "code",
   "execution_count": null,
   "id": "13ad8e6d-feb0-43f4-9f01-52c7525b4623",
   "metadata": {},
   "outputs": [],
   "source": []
  },
  {
   "cell_type": "code",
   "execution_count": null,
   "id": "c0dbc898-0f1f-4365-855d-4ac286f01ab5",
   "metadata": {},
   "outputs": [],
   "source": []
  },
  {
   "cell_type": "markdown",
   "id": "1e33bde7-d8bf-4baf-a382-353815b368f9",
   "metadata": {},
   "source": [
    "# 제 1장"
   ]
  },
  {
   "cell_type": "markdown",
   "id": "8026fce6-f597-42e4-89b0-6e7e90379c60",
   "metadata": {},
   "source": [
    "## 자료형\n",
    " - 문자형\n",
    " - 숫자형(정수, 소수)\n",
    " - 참거짓형 : boolena, bool"
   ]
  },
  {
   "cell_type": "code",
   "execution_count": 118,
   "id": "91072b5b-98ee-4007-a7aa-75221f5a5935",
   "metadata": {
    "tags": []
   },
   "outputs": [
    {
     "name": "stdout",
     "output_type": "stream",
     "text": [
      "1\n"
     ]
    }
   ],
   "source": [
    "a = 1\n",
    "print(a)"
   ]
  },
  {
   "cell_type": "code",
   "execution_count": 119,
   "id": "885561ac-70d8-4733-b9b9-9627015af727",
   "metadata": {
    "tags": []
   },
   "outputs": [
    {
     "data": {
      "text/plain": [
       "int"
      ]
     },
     "execution_count": 119,
     "metadata": {},
     "output_type": "execute_result"
    }
   ],
   "source": [
    "type(a)"
   ]
  },
  {
   "cell_type": "code",
   "execution_count": 120,
   "id": "5a4c582c-ce4d-4163-993a-ce3b3a709534",
   "metadata": {
    "tags": []
   },
   "outputs": [
    {
     "name": "stdout",
     "output_type": "stream",
     "text": [
      "1.0\n"
     ]
    }
   ],
   "source": [
    "a = 1.0\n",
    "print(a)"
   ]
  },
  {
   "cell_type": "code",
   "execution_count": null,
   "id": "f8081c8f-4dd4-4a24-b526-a895408650c9",
   "metadata": {},
   "outputs": [],
   "source": []
  },
  {
   "cell_type": "raw",
   "id": "ce04ce03-8d5c-4e7a-accb-52fd0af170d3",
   "metadata": {
    "tags": []
   },
   "source": [
    "type(a)"
   ]
  },
  {
   "cell_type": "code",
   "execution_count": 124,
   "id": "0012d62d-b382-4ddd-86a4-380463aeb8b1",
   "metadata": {
    "tags": []
   },
   "outputs": [
    {
     "ename": "SyntaxError",
     "evalue": "invalid syntax (1935586952.py, line 6)",
     "output_type": "error",
     "traceback": [
      "\u001b[1;36m  Cell \u001b[1;32mIn[124], line 6\u001b[1;36m\u001b[0m\n\u001b[1;33m    float 부동소수 : 실수\u001b[0m\n\u001b[1;37m          ^\u001b[0m\n\u001b[1;31mSyntaxError\u001b[0m\u001b[1;31m:\u001b[0m invalid syntax\n"
     ]
    }
   ],
   "source": [
    "12345\n",
    "1.2345\n",
    "12.345\n",
    "123.45\n",
    "\n",
    "float 부동소수 : 실수"
   ]
  },
  {
   "cell_type": "code",
   "execution_count": 141,
   "id": "0aa121e3-014f-477d-a994-8c28efd187ad",
   "metadata": {
    "tags": []
   },
   "outputs": [
    {
     "name": "stdout",
     "output_type": "stream",
     "text": [
      "1.2e-35\n",
      "1.2e+56\n"
     ]
    }
   ],
   "source": [
    "a = 0.000000000000000000000000000000000012\n",
    "print(a)\n",
    "\n",
    "b= 120000000000000000000000000000000000000000000000000000000.0\n",
    "print(b)"
   ]
  },
  {
   "cell_type": "code",
   "execution_count": 142,
   "id": "0088f1b8-ba2f-4365-89e5-b80372b2ca6e",
   "metadata": {
    "tags": []
   },
   "outputs": [
    {
     "name": "stdout",
     "output_type": "stream",
     "text": [
      "hello\n"
     ]
    }
   ],
   "source": [
    "a = \"hello\"\n",
    "a= 'hello'\n",
    "print(a)"
   ]
  },
  {
   "cell_type": "code",
   "execution_count": 143,
   "id": "3632cc91-a404-4821-bcbd-a0a05fff6168",
   "metadata": {
    "tags": []
   },
   "outputs": [
    {
     "name": "stdout",
     "output_type": "stream",
     "text": [
      "i love you\n"
     ]
    }
   ],
   "source": [
    "print(\"i love you\")"
   ]
  },
  {
   "cell_type": "code",
   "execution_count": 149,
   "id": "31fef8b7-2978-4229-831f-2ab5319a5699",
   "metadata": {
    "tags": []
   },
   "outputs": [
    {
     "name": "stdout",
     "output_type": "stream",
     "text": [
      "She say \"I love you\"\n"
     ]
    }
   ],
   "source": [
    "print ('She say \"I love you\"')"
   ]
  },
  {
   "cell_type": "code",
   "execution_count": 150,
   "id": "32ea894e-55e8-49f9-a0a0-54b8ae2ea046",
   "metadata": {
    "tags": []
   },
   "outputs": [
    {
     "name": "stdout",
     "output_type": "stream",
     "text": [
      "she says 'I love you'\n"
     ]
    }
   ],
   "source": [
    "print('she says \\'I love you\\'') \n"
   ]
  },
  {
   "cell_type": "code",
   "execution_count": 151,
   "id": "775a142f-0de1-42e2-9697-863df2e8851d",
   "metadata": {
    "tags": []
   },
   "outputs": [
    {
     "name": "stdout",
     "output_type": "stream",
     "text": [
      "she says, \"i love you\"\n"
     ]
    }
   ],
   "source": [
    "a = 'she says, \"i love you\"'\n",
    "print(a) "
   ]
  },
  {
   "cell_type": "code",
   "execution_count": 153,
   "id": "814c6d0f-66b5-4ee3-8cbc-baf27564f9b0",
   "metadata": {},
   "outputs": [
    {
     "name": "stdout",
     "output_type": "stream",
     "text": [
      "\"\"\"Life is too short, You need python\"\"\"\n"
     ]
    }
   ],
   "source": [
    "print('\"\"\"Life is too short, You need python\"\"\"')"
   ]
  },
  {
   "cell_type": "code",
   "execution_count": 158,
   "id": "38757ab2-2bca-427a-b435-c3f380bef935",
   "metadata": {
    "tags": []
   },
   "outputs": [
    {
     "name": "stdout",
     "output_type": "stream",
     "text": [
      "\"\"\"Life is too short,\n",
      "You need python\"\"\"\n"
     ]
    }
   ],
   "source": [
    "print('\"\"\"Life is too short,')\n",
    "print('You need python\"\"\"')"
   ]
  },
  {
   "cell_type": "markdown",
   "id": "bc98b78b-d4d0-4d79-b26a-125ad7fd3166",
   "metadata": {},
   "source": [
    "### escape 종류"
   ]
  },
  {
   "cell_type": "code",
   "execution_count": 162,
   "id": "4185dafb-1dae-4586-bb70-04dceabd7355",
   "metadata": {
    "tags": []
   },
   "outputs": [
    {
     "name": "stdout",
     "output_type": "stream",
     "text": [
      "\"\"\"Life is too short, \n",
      " You need python\"\"\"\n"
     ]
    }
   ],
   "source": [
    "print('\"\"\"Life is too short, \\n You need python\"\"\"')"
   ]
  },
  {
   "cell_type": "code",
   "execution_count": 163,
   "id": "e54987e7-00b3-43f9-bad2-a2094635df50",
   "metadata": {
    "tags": []
   },
   "outputs": [
    {
     "name": "stdout",
     "output_type": "stream",
     "text": [
      "\"\"\"Life is too short, \t You need python\"\"\"\n"
     ]
    }
   ],
   "source": [
    "print('\"\"\"Life is too short, \\t You need python\"\"\"')"
   ]
  },
  {
   "cell_type": "code",
   "execution_count": 167,
   "id": "e3e52f42-e1a4-4c13-ba08-57e05ac57ead",
   "metadata": {},
   "outputs": [
    {
     "name": "stdout",
     "output_type": "stream",
     "text": [
      "\n",
      "Life is too short, \n",
      "You need python\n",
      "\n"
     ]
    }
   ],
   "source": [
    "print(\"\"\"\n",
    "Life is too short, \n",
    "You need python\n",
    "\"\"\")"
   ]
  },
  {
   "cell_type": "code",
   "execution_count": 170,
   "id": "6e086706-3aa3-45be-b4cf-5fed71253bf9",
   "metadata": {
    "tags": []
   },
   "outputs": [
    {
     "data": {
      "text/plain": [
       "' 1'"
      ]
     },
     "execution_count": 170,
     "metadata": {},
     "output_type": "execute_result"
    }
   ],
   "source": [
    "a =' 1'\n",
    "a"
   ]
  },
  {
   "cell_type": "code",
   "execution_count": 171,
   "id": "c8740904-0e3b-4b11-ba64-31786843090b",
   "metadata": {
    "tags": []
   },
   "outputs": [
    {
     "data": {
      "text/plain": [
       "str"
      ]
     },
     "execution_count": 171,
     "metadata": {},
     "output_type": "execute_result"
    }
   ],
   "source": [
    "type(a)"
   ]
  },
  {
   "cell_type": "code",
   "execution_count": 173,
   "id": "d87db486-1e40-4157-a310-aa2f275c582c",
   "metadata": {
    "tags": []
   },
   "outputs": [
    {
     "name": "stdout",
     "output_type": "stream",
     "text": [
      "True\n"
     ]
    }
   ],
   "source": [
    "a = True\n",
    "print(a)"
   ]
  },
  {
   "cell_type": "code",
   "execution_count": 176,
   "id": "fbdf9129-fdbc-4a84-ad1d-5ea3472c47c1",
   "metadata": {
    "tags": []
   },
   "outputs": [
    {
     "data": {
      "text/plain": [
       "bool"
      ]
     },
     "execution_count": 176,
     "metadata": {},
     "output_type": "execute_result"
    }
   ],
   "source": [
    "type(a)"
   ]
  },
  {
   "cell_type": "markdown",
   "id": "d37b072b-2a70-49e8-9a02-84248bf61a74",
   "metadata": {},
   "source": [
    "### 데이터 타입 변환"
   ]
  },
  {
   "cell_type": "code",
   "execution_count": 192,
   "id": "2d2e87c1-06fa-4ba2-8c28-b2e904f5c38d",
   "metadata": {
    "tags": []
   },
   "outputs": [
    {
     "name": "stdout",
     "output_type": "stream",
     "text": [
      "1\n"
     ]
    },
    {
     "data": {
      "text/plain": [
       "'1'"
      ]
     },
     "execution_count": 192,
     "metadata": {},
     "output_type": "execute_result"
    }
   ],
   "source": [
    "a = 1\n",
    "print(a)\n",
    "\n",
    "a = str(a)\n",
    "a"
   ]
  },
  {
   "cell_type": "code",
   "execution_count": 193,
   "id": "f86a52cb-62dc-478d-bde5-f759f6373e01",
   "metadata": {
    "tags": []
   },
   "outputs": [
    {
     "data": {
      "text/plain": [
       "str"
      ]
     },
     "execution_count": 193,
     "metadata": {},
     "output_type": "execute_result"
    }
   ],
   "source": [
    "type(a)"
   ]
  },
  {
   "cell_type": "code",
   "execution_count": 211,
   "id": "d88b6e34-4763-4dae-9057-8e9e210d0a49",
   "metadata": {
    "tags": []
   },
   "outputs": [
    {
     "data": {
      "text/plain": [
       "False"
      ]
     },
     "execution_count": 211,
     "metadata": {},
     "output_type": "execute_result"
    }
   ],
   "source": [
    "a = \"\"  #모든 숫자, 글자가  창이다. 0,아무것도 없을떈 거짓이다.\n",
    "bool(a)"
   ]
  },
  {
   "cell_type": "code",
   "execution_count": 218,
   "id": "fb07e610-fa8a-4c88-8ca4-e22f7998ed56",
   "metadata": {
    "tags": []
   },
   "outputs": [
    {
     "name": "stdout",
     "output_type": "stream",
     "text": [
      "yes\n"
     ]
    }
   ],
   "source": [
    "if \"z\" :\n",
    "    print(\"yes\")\n",
    "else:\n",
    "    print(\"no\")"
   ]
  },
  {
   "cell_type": "markdown",
   "id": "15a5bbe1-3fc0-49d6-93dc-7e373aac38b3",
   "metadata": {},
   "source": [
    "### 이어붙이기"
   ]
  },
  {
   "cell_type": "code",
   "execution_count": 224,
   "id": "0fdd24d2-d3b7-40b4-8304-726220396bbe",
   "metadata": {
    "tags": []
   },
   "outputs": [
    {
     "name": "stdout",
     "output_type": "stream",
     "text": [
      "hellostr(1)\n"
     ]
    }
   ],
   "source": [
    "a = \"hello\" + \"str(1)\"     #str 와 int는 합칠 수 없다\n",
    "print(a)"
   ]
  },
  {
   "cell_type": "code",
   "execution_count": 244,
   "id": "295f6891-c069-482c-a784-5f2a10496146",
   "metadata": {
    "tags": []
   },
   "outputs": [
    {
     "data": {
      "text/plain": [
       "273"
      ]
     },
     "execution_count": 245,
     "metadata": {},
     "output_type": "execute_result"
    }
   ],
   "source": [
    "# 16진수\n",
    "\n",
    "0x111\n",
    "0xFFF     # 1,2,3, .......9,A,B,C,D,E,F"
   ]
  },
  {
   "cell_type": "code",
   "execution_count": 256,
   "id": "89c4226d-160f-4dab-a639-d3c3c6bd3c75",
   "metadata": {
    "tags": []
   },
   "outputs": [
    {
     "name": "stdout",
     "output_type": "stream",
     "text": [
      "8\n"
     ]
    }
   ],
   "source": [
    "print(2**3) #"
   ]
  },
  {
   "cell_type": "code",
   "execution_count": 260,
   "id": "df02d905-6f38-4bcb-a1d5-0302b6bbaedd",
   "metadata": {
    "tags": []
   },
   "outputs": [
    {
     "data": {
      "text/plain": [
       "1"
      ]
     },
     "execution_count": 260,
     "metadata": {},
     "output_type": "execute_result"
    }
   ],
   "source": [
    "#11//6      #몫\n",
    "11 % 5      #나머지"
   ]
  },
  {
   "cell_type": "code",
   "execution_count": 178,
   "id": "e7b1612d-351f-4f8a-98de-64469d660bf5",
   "metadata": {
    "tags": []
   },
   "outputs": [
    {
     "name": "stdout",
     "output_type": "stream",
     "text": [
      "no\n"
     ]
    }
   ],
   "source": [
    "a = 8\n",
    "if a % 2 == 1  :      #홀수면 yes\n",
    "    print(\"yes\")\n",
    "else:\n",
    "    print(\"no\")"
   ]
  },
  {
   "cell_type": "code",
   "execution_count": 268,
   "id": "659e6a89-1109-4bc6-8cae-4fa093e6d401",
   "metadata": {
    "tags": []
   },
   "outputs": [
    {
     "ename": "NameError",
     "evalue": "name 'sqrt' is not defined",
     "output_type": "error",
     "traceback": [
      "\u001b[1;31m---------------------------------------------------------------------------\u001b[0m",
      "\u001b[1;31mNameError\u001b[0m                                 Traceback (most recent call last)",
      "Cell \u001b[1;32mIn[268], line 2\u001b[0m\n\u001b[0;32m      1\u001b[0m a \u001b[38;5;241m=\u001b[39m \u001b[38;5;241m1\u001b[39m\n\u001b[1;32m----> 2\u001b[0m \u001b[43msqrt\u001b[49m(a)\n",
      "\u001b[1;31mNameError\u001b[0m: name 'sqrt' is not defined"
     ]
    }
   ],
   "source": [
    "a = 1\n",
    "sqrt(a)"
   ]
  },
  {
   "cell_type": "code",
   "execution_count": null,
   "id": "67097cdf-01d7-402a-9626-d48b317da75d",
   "metadata": {},
   "outputs": [],
   "source": []
  },
  {
   "cell_type": "code",
   "execution_count": 270,
   "id": "55a99b66-ff9e-48c5-9a8c-ef8ccd858180",
   "metadata": {
    "tags": []
   },
   "outputs": [],
   "source": [
    "import math"
   ]
  },
  {
   "cell_type": "code",
   "execution_count": 283,
   "id": "96761656-a869-43cb-81cb-f83a02231de8",
   "metadata": {
    "tags": []
   },
   "outputs": [
    {
     "data": {
      "text/plain": [
       "2.0"
      ]
     },
     "execution_count": 283,
     "metadata": {},
     "output_type": "execute_result"
    }
   ],
   "source": [
    "math.sqrt(4)          # 루트"
   ]
  },
  {
   "cell_type": "code",
   "execution_count": 280,
   "id": "c9ff2567-39b6-4961-b2f8-551ddc06f7ea",
   "metadata": {
    "tags": []
   },
   "outputs": [
    {
     "data": {
      "text/plain": [
       "3.141592653589793"
      ]
     },
     "execution_count": 280,
     "metadata": {},
     "output_type": "execute_result"
    }
   ],
   "source": [
    "math.pi"
   ]
  },
  {
   "cell_type": "code",
   "execution_count": 287,
   "id": "8d3fa303-8fc5-4a68-870e-69c26afe822c",
   "metadata": {
    "tags": []
   },
   "outputs": [],
   "source": [
    "import numpy as np    #as는 numpy를 np로 부르겠다        #math랑 다름"
   ]
  },
  {
   "cell_type": "code",
   "execution_count": 282,
   "id": "5607ec30-3557-4390-a8c8-6d7af749e03a",
   "metadata": {
    "tags": []
   },
   "outputs": [
    {
     "data": {
      "text/plain": [
       "2.0"
      ]
     },
     "execution_count": 282,
     "metadata": {},
     "output_type": "execute_result"
    }
   ],
   "source": [
    "numpy.sqrt(4)         #루트"
   ]
  },
  {
   "cell_type": "code",
   "execution_count": 289,
   "id": "a15b59ce-698a-434a-81e8-83b2c7d92ca0",
   "metadata": {},
   "outputs": [
    {
     "data": {
      "text/plain": [
       "3.141592653589793"
      ]
     },
     "execution_count": 289,
     "metadata": {},
     "output_type": "execute_result"
    }
   ],
   "source": [
    "np.pi"
   ]
  },
  {
   "cell_type": "code",
   "execution_count": 290,
   "id": "4f59a7c5-81ab-496d-b0dc-77a440c6c86b",
   "metadata": {
    "tags": []
   },
   "outputs": [
    {
     "data": {
      "text/plain": [
       "1.0"
      ]
     },
     "execution_count": 290,
     "metadata": {},
     "output_type": "execute_result"
    }
   ],
   "source": [
    "np.cos(0)"
   ]
  },
  {
   "cell_type": "code",
   "execution_count": 297,
   "id": "c7120270-db0a-4ed4-a14d-1b15ece0f447",
   "metadata": {
    "tags": []
   },
   "outputs": [
    {
     "data": {
      "text/plain": [
       "1.0"
      ]
     },
     "execution_count": 297,
     "metadata": {},
     "output_type": "execute_result"
    }
   ],
   "source": [
    "np.cos(2*np.pi)"
   ]
  },
  {
   "cell_type": "code",
   "execution_count": 306,
   "id": "70daf1d9-ed6e-43fc-9086-96f486610937",
   "metadata": {
    "tags": []
   },
   "outputs": [
    {
     "data": {
      "text/plain": [
       "3628800"
      ]
     },
     "execution_count": 306,
     "metadata": {},
     "output_type": "execute_result"
    }
   ],
   "source": [
    "math.factorial(10)     #10!"
   ]
  },
  {
   "cell_type": "code",
   "execution_count": 317,
   "id": "983522b0-db99-42dd-b93b-2db9a4608841",
   "metadata": {
    "tags": []
   },
   "outputs": [
    {
     "name": "stdout",
     "output_type": "stream",
     "text": [
      "[ 8.41470985e-01  9.57458518e-01  9.99892375e-01  9.65512709e-01\n",
      "  8.56960628e-01  6.82575297e-01  4.55753310e-01  1.93919538e-01\n",
      " -8.28114799e-02 -3.53180772e-01 -5.96418085e-01 -7.93837492e-01\n",
      " -9.30272883e-01 -9.95243045e-01 -9.83756855e-01 -8.96696702e-01\n",
      " -7.40750703e-01 -5.27898909e-01 -2.74492975e-01 -2.44929360e-16]\n"
     ]
    }
   ],
   "source": [
    "# cos  linspace(start, stop, 몇개로 나눌지)\n",
    "\n",
    "x = np.linspace(1, np.pi*2, 20)\n",
    "y = np.sin(x)\n",
    "print(y)"
   ]
  },
  {
   "cell_type": "code",
   "execution_count": 324,
   "id": "5ceb3bdd-6ee6-442c-a761-6675cc913bc0",
   "metadata": {
    "tags": []
   },
   "outputs": [],
   "source": [
    "import matplotlib.pyplot as pit"
   ]
  },
  {
   "cell_type": "code",
   "execution_count": 337,
   "id": "eb4f93e5-7b4d-4b7b-a180-2e73ce13ef21",
   "metadata": {
    "tags": []
   },
   "outputs": [
    {
     "data": {
      "text/plain": [
       "[<matplotlib.lines.Line2D at 0x1b587969ae0>]"
      ]
     },
     "execution_count": 337,
     "metadata": {},
     "output_type": "execute_result"
    },
    {
     "data": {
      "image/png": "[encoded data removed]",
      "text/plain": [
       "<Figure size 640x480 with 1 Axes>"
      ]
     },
     "metadata": {},
     "output_type": "display_data"
    }
   ],
   "source": [
    "# sin, cos 그래프 그리기\n",
    "\n",
    "x = np.linspace(0, np.pi*2, 200)\n",
    "pit.plot(x, np.sin(x))\n",
    "pit.plot(x, np.cos(x))\n"
   ]
  },
  {
   "cell_type": "code",
   "execution_count": 338,
   "id": "809fbab0-15a0-4050-b366-737c9337e211",
   "metadata": {
    "tags": []
   },
   "outputs": [
    {
     "data": {
      "text/plain": [
       "2.0"
      ]
     },
     "execution_count": 338,
     "metadata": {},
     "output_type": "execute_result"
    }
   ],
   "source": [
    "np.sqrt(4)"
   ]
  },
  {
   "cell_type": "code",
   "execution_count": 348,
   "id": "17979f62-8da1-414b-aa31-258c084477af",
   "metadata": {
    "tags": []
   },
   "outputs": [],
   "source": [
    " #sqrt, sin 등등등 np를 안쓰고 바로쓰고싶으면 *를 붙인다\n",
    "    #하지만 np를 써준다, 출처를 알기 위해서\n",
    "from numpy import *   "
   ]
  },
  {
   "cell_type": "code",
   "execution_count": 346,
   "id": "3ea7da08-627a-4082-820d-ec187c93b2e6",
   "metadata": {
    "tags": []
   },
   "outputs": [
    {
     "data": {
      "text/plain": [
       "2.0"
      ]
     },
     "execution_count": 346,
     "metadata": {},
     "output_type": "execute_result"
    }
   ],
   "source": [
    "sqrt(4)"
   ]
  },
  {
   "cell_type": "code",
   "execution_count": 347,
   "id": "a683057b-2b9f-48c8-8063-eb231a4b2861",
   "metadata": {
    "tags": []
   },
   "outputs": [
    {
     "data": {
      "text/plain": [
       "0.0"
      ]
     },
     "execution_count": 347,
     "metadata": {},
     "output_type": "execute_result"
    }
   ],
   "source": [
    "sin(0)"
   ]
  },
  {
   "cell_type": "code",
   "execution_count": 349,
   "id": "22c88b52-60f9-4ee6-91bd-220d86822baf",
   "metadata": {
    "tags": []
   },
   "outputs": [],
   "source": [
    "import numpy\n",
    "import numpy as np\n",
    "from numpy import sqrt\n",
    "from numpy import *"
   ]
  },
  {
   "cell_type": "markdown",
   "id": "2b259528-e7eb-44b7-b69a-3d0b954383b9",
   "metadata": {
    "tags": []
   },
   "source": [
    " -  반올림 2는 둘쨰짜리까지\n",
    "round(3.4567, 2)"
   ]
  },
  {
   "cell_type": "code",
   "execution_count": 360,
   "id": "9f7b90bd-37bf-4b45-afa4-9e1798d9cfcb",
   "metadata": {
    "tags": []
   },
   "outputs": [
    {
     "data": {
      "text/plain": [
       "4.0"
      ]
     },
     "execution_count": 360,
     "metadata": {},
     "output_type": "execute_result"
    }
   ],
   "source": [
    "# 내림\n",
    "np.floor(3.4567)"
   ]
  },
  {
   "cell_type": "code",
   "execution_count": 362,
   "id": "7080fbcc-0e1d-49a4-9393-f8b0964714ee",
   "metadata": {
    "tags": []
   },
   "outputs": [
    {
     "data": {
      "text/plain": [
       "4.0"
      ]
     },
     "execution_count": 362,
     "metadata": {},
     "output_type": "execute_result"
    }
   ],
   "source": [
    "# 올림\n",
    "np.ceil(3.1564)"
   ]
  },
  {
   "cell_type": "markdown",
   "id": "c995dcb0-a953-45ce-a8f1-7e92d5f4dfc3",
   "metadata": {},
   "source": [
    "## 문자열 연산"
   ]
  },
  {
   "cell_type": "code",
   "execution_count": 366,
   "id": "3594665b-79fe-4aee-8bc2-3797be984fc0",
   "metadata": {
    "tags": []
   },
   "outputs": [
    {
     "data": {
      "text/plain": [
       "'hellogood morning'"
      ]
     },
     "execution_count": 366,
     "metadata": {},
     "output_type": "execute_result"
    }
   ],
   "source": [
    "a = \"hello\"\n",
    "b = \"good morning\"\n",
    "a + b"
   ]
  },
  {
   "cell_type": "code",
   "execution_count": 367,
   "id": "524c3621-6955-4df1-9b41-4b224653b16d",
   "metadata": {
    "tags": []
   },
   "outputs": [
    {
     "name": "stdout",
     "output_type": "stream",
     "text": [
      "hellohellohellohello\n"
     ]
    }
   ],
   "source": [
    "print(a*4)"
   ]
  },
  {
   "cell_type": "code",
   "execution_count": 368,
   "id": "17a1f773-b86a-4963-88da-6354acf0b54a",
   "metadata": {
    "tags": []
   },
   "outputs": [
    {
     "name": "stdout",
     "output_type": "stream",
     "text": [
      "hellogood morning\n",
      "========================================\n",
      "hellogood morning\n"
     ]
    }
   ],
   "source": [
    "a = \"hello\"\n",
    "b = \"good morning\"\n",
    "print(a +b)\n",
    "print(\"=\"*40)\n",
    "a = \"hello\"\n",
    "b = \"good morning\"\n",
    "print(a +b)"
   ]
  },
  {
   "cell_type": "code",
   "execution_count": 369,
   "id": "9a8c3c57-4156-4eaa-95ab-64f21ebc4c31",
   "metadata": {
    "tags": []
   },
   "outputs": [
    {
     "data": {
      "text/plain": [
       "5"
      ]
     },
     "execution_count": 369,
     "metadata": {},
     "output_type": "execute_result"
    }
   ],
   "source": [
    "# 갯수\n",
    "len(a)"
   ]
  },
  {
   "cell_type": "code",
   "execution_count": 376,
   "id": "973c7dfc-ff25-4d40-8918-557b4014751e",
   "metadata": {
    "tags": []
   },
   "outputs": [
    {
     "name": "stdout",
     "output_type": "stream",
     "text": [
      "hello\n"
     ]
    },
    {
     "data": {
      "text/plain": [
       "('h', 'e')"
      ]
     },
     "execution_count": 376,
     "metadata": {},
     "output_type": "execute_result"
    }
   ],
   "source": [
    "# 맨 앞자리는 0\n",
    "print(a)\n",
    "a[0], a[1]"
   ]
  },
  {
   "cell_type": "code",
   "execution_count": 380,
   "id": "660d2b9a-a881-4421-ba20-145ac7e258f8",
   "metadata": {
    "tags": []
   },
   "outputs": [
    {
     "data": {
      "text/plain": [
       "True"
      ]
     },
     "execution_count": 380,
     "metadata": {},
     "output_type": "execute_result"
    }
   ],
   "source": [
    "#뒤에는 -1 부터 시작\n",
    "a[-0] == a[0]\n",
    "-0 == 0"
   ]
  },
  {
   "cell_type": "code",
   "execution_count": 382,
   "id": "b1047ff2-9de5-4bc8-9778-6d646d11d62b",
   "metadata": {
    "tags": []
   },
   "outputs": [
    {
     "data": {
      "text/plain": [
       "'o'"
      ]
     },
     "execution_count": 382,
     "metadata": {},
     "output_type": "execute_result"
    }
   ],
   "source": [
    "a[len(a)-1]"
   ]
  },
  {
   "cell_type": "markdown",
   "id": "668d44c5-fc2b-4319-9f20-19556dfbf56a",
   "metadata": {
    "tags": []
   },
   "source": [
    "a = b\n",
    "a\n",
    "\n",
    "\n",
    "\n",
    "\n",
    " - indexing"
   ]
  },
  {
   "cell_type": "code",
   "execution_count": 389,
   "id": "e7f727c9-b07a-422c-8daa-903c6ea9d1e1",
   "metadata": {
    "tags": []
   },
   "outputs": [
    {
     "data": {
      "text/plain": [
       "'mo'"
      ]
     },
     "execution_count": 389,
     "metadata": {},
     "output_type": "execute_result"
    }
   ],
   "source": [
    "a[5]+\"o\""
   ]
  },
  {
   "cell_type": "code",
   "execution_count": 393,
   "id": "7dfdaaf0-1aee-42d6-9d8f-db16a5783821",
   "metadata": {
    "tags": []
   },
   "outputs": [
    {
     "data": {
      "text/plain": [
       "'good'"
      ]
     },
     "execution_count": 393,
     "metadata": {},
     "output_type": "execute_result"
    }
   ],
   "source": [
    "a[0]+a[1]+a[2]+a[3]\n",
    "a[0:4]"
   ]
  },
  {
   "cell_type": "markdown",
   "id": "9d311828-c901-41fe-97d3-90397e5d7994",
   "metadata": {
    "tags": []
   },
   "source": [
    " - slicing"
   ]
  },
  {
   "cell_type": "code",
   "execution_count": 400,
   "id": "99d34265-797b-4e52-a932-f951c611cca2",
   "metadata": {
    "tags": []
   },
   "outputs": [
    {
     "data": {
      "text/plain": [
       "'good'"
      ]
     },
     "execution_count": 400,
     "metadata": {},
     "output_type": "execute_result"
    }
   ],
   "source": [
    "a[0:4]\n",
    "\n",
    "start : stop\n",
    "0 <=    <4    # 마지막 등호는 빠진다 "
   ]
  },
  {
   "cell_type": "code",
   "execution_count": 407,
   "id": "fb5b275d-61e0-4f19-81b1-8f87ba521c0a",
   "metadata": {
    "tags": []
   },
   "outputs": [
    {
     "data": {
      "text/plain": [
       "'good morning'"
      ]
     },
     "execution_count": 407,
     "metadata": {},
     "output_type": "execute_result"
    }
   ],
   "source": [
    "a[ :4]        # start가 없다\n",
    "a[4: ]    # stop 이 없다\n",
    "a[ : ]    #"
   ]
  },
  {
   "cell_type": "code",
   "execution_count": 408,
   "id": "d0f69fa4-aebc-48d0-b61b-82396f43fe52",
   "metadata": {
    "tags": []
   },
   "outputs": [
    {
     "data": {
      "text/plain": [
       "'ing'"
      ]
     },
     "execution_count": 408,
     "metadata": {},
     "output_type": "execute_result"
    }
   ],
   "source": [
    "a[-3:]"
   ]
  },
  {
   "cell_type": "markdown",
   "id": "fa300e0f-04f9-48ef-a3b6-e43694af8ebf",
   "metadata": {
    "tags": []
   },
   "source": [
    "today = \"20230309shine\"\n",
    "1. 모두 글 글자입니까?\n",
    "2 .2023\n",
    "    0309\n",
    "    shine"
   ]
  },
  {
   "cell_type": "code",
   "execution_count": 420,
   "id": "7677ee3b-57aa-49bf-87cb-694ffcc404ba",
   "metadata": {
    "tags": []
   },
   "outputs": [
    {
     "name": "stdout",
     "output_type": "stream",
     "text": [
      "13\n",
      "2023\n",
      "0309\n",
      "shine\n"
     ]
    }
   ],
   "source": [
    "today = \"20230309shine\"\n",
    "print(len(today))\n",
    "print(today[:4])\n",
    "print(today[4:8])\n",
    "print(today[-5: ])"
   ]
  },
  {
   "cell_type": "code",
   "execution_count": 423,
   "id": "aec541d7-1993-40d6-8868-86b5e266a5e0",
   "metadata": {
    "tags": []
   },
   "outputs": [
    {
     "data": {
      "text/plain": [
       "'shi'"
      ]
     },
     "execution_count": 423,
     "metadata": {},
     "output_type": "execute_result"
    }
   ],
   "source": [
    "today[8:13]\n",
    "today[-5:]\n",
    "today[8: -2]"
   ]
  },
  {
   "cell_type": "markdown",
   "id": "ffb052b0-08bc-40a7-98ba-41b8522c30da",
   "metadata": {
    "tags": []
   },
   "source": [
    " - input() 함수\n",
    " - br은 리턴 값이다"
   ]
  },
  {
   "cell_type": "code",
   "execution_count": 425,
   "id": "78b86da2-2427-4d2d-9625-e68aaaff66a2",
   "metadata": {
    "tags": []
   },
   "outputs": [
    {
     "name": "stdin",
     "output_type": "stream",
     "text": [
      " 1\n"
     ]
    },
    {
     "data": {
      "text/plain": [
       "'1'"
      ]
     },
     "execution_count": 425,
     "metadata": {},
     "output_type": "execute_result"
    }
   ],
   "source": [
    "input(1)"
   ]
  },
  {
   "cell_type": "code",
   "execution_count": 426,
   "id": "f2ace48e-f3e3-45ba-ba9d-3fb10cffb23f",
   "metadata": {
    "tags": []
   },
   "outputs": [
    {
     "name": "stdin",
     "output_type": "stream",
     "text": [
      "숫자를 입력하세요 :  1\n"
     ]
    },
    {
     "data": {
      "text/plain": [
       "'1'"
      ]
     },
     "execution_count": 426,
     "metadata": {},
     "output_type": "execute_result"
    }
   ],
   "source": [
    "input(\"숫자를 입력하세요 : \")"
   ]
  },
  {
   "cell_type": "code",
   "execution_count": 430,
   "id": "aae4e7fd-5885-40cc-9011-a882229b0948",
   "metadata": {
    "tags": []
   },
   "outputs": [
    {
     "name": "stdin",
     "output_type": "stream",
     "text": [
      "이름을 입력하세요:  홍\n",
      "나이를 입력하세요:  20\n"
     ]
    }
   ],
   "source": [
    "name = input(\"이름을 입력하세요: \")\n",
    "age = input(\"나이를 입력하세요: \")"
   ]
  },
  {
   "cell_type": "code",
   "execution_count": 433,
   "id": "591ddf2c-1c05-486f-88c3-67bb61e4a6f5",
   "metadata": {
    "tags": []
   },
   "outputs": [
    {
     "data": {
      "text/plain": [
       "'20'"
      ]
     },
     "execution_count": 433,
     "metadata": {},
     "output_type": "execute_result"
    }
   ],
   "source": [
    "age"
   ]
  },
  {
   "cell_type": "code",
   "execution_count": 435,
   "id": "3d93ebb5-15bc-443a-8e15-32294a04dc9f",
   "metadata": {
    "tags": []
   },
   "outputs": [
    {
     "name": "stdin",
     "output_type": "stream",
     "text": [
      "숫자을 입력하세요:  10\n",
      "숫자를 입력하세요:  20\n"
     ]
    },
    {
     "data": {
      "text/plain": [
       "30"
      ]
     },
     "execution_count": 435,
     "metadata": {},
     "output_type": "execute_result"
    }
   ],
   "source": [
    "a = int(input(\"숫자을 입력하세요: \"))    \n",
    "b = int(input(\"숫자를 입력하세요: \"))\n",
    "                       #정수로 변환하지 않을지 문자로 판단하기에 1020 이렇게 나온다\n",
    "\n",
    "a+b"
   ]
  },
  {
   "cell_type": "code",
   "execution_count": null,
   "id": "b8c89957-bb67-4e27-ad29-aadbf2a46610",
   "metadata": {},
   "outputs": [],
   "source": [
    "입력받은 숫자를 2배해서 출력해 봅시다."
   ]
  },
  {
   "cell_type": "code",
   "execution_count": 437,
   "id": "2b60d269-71ba-4231-ac69-7437d73321d6",
   "metadata": {
    "tags": []
   },
   "outputs": [
    {
     "name": "stdin",
     "output_type": "stream",
     "text": [
      "숫차를 입력하세요 20\n"
     ]
    },
    {
     "data": {
      "text/plain": [
       "40"
      ]
     },
     "execution_count": 437,
     "metadata": {},
     "output_type": "execute_result"
    }
   ],
   "source": [
    "a = int(input(\"숫차를 입력하세요\"))\n",
    "2*a"
   ]
  },
  {
   "cell_type": "markdown",
   "id": "e64983b4-6a09-4786-96b0-09846f1572ba",
   "metadata": {},
   "source": [
    "### formatting"
   ]
  },
  {
   "cell_type": "code",
   "execution_count": 438,
   "id": "af534a21-0e68-4cdb-8b5c-17193cf0e359",
   "metadata": {
    "tags": []
   },
   "outputs": [
    {
     "name": "stdout",
     "output_type": "stream",
     "text": [
      "i ate 3 apple, so i sicked 2 days\n"
     ]
    }
   ],
   "source": [
    "print(\"i ate 3 apple, so i sicked 2 days\")"
   ]
  },
  {
   "cell_type": "code",
   "execution_count": 447,
   "id": "4f6b0965-0bcf-4708-9023-aa8d3c33eb1c",
   "metadata": {
    "tags": []
   },
   "outputs": [
    {
     "name": "stdout",
     "output_type": "stream",
     "text": [
      "i ate 3 apple, so i sicked two days\n"
     ]
    }
   ],
   "source": [
    "# %s 문자열\n",
    "# %c 문자1개\n",
    "# %d 정수\n",
    "# %f 부동 소수\n",
    "# %o 8진수\n",
    "# %x 16진수\n",
    "# %% 문자%전체       #10년전에씀ㅋㅋ\n",
    "\n",
    "\n",
    "#1. %를 이용하기\n",
    "\n",
    "number = 3\n",
    "day = 'two'\n",
    "\n",
    "print(\"i ate %d apple, so i sicked %s days\" % (number, day))"
   ]
  },
  {
   "cell_type": "code",
   "execution_count": 450,
   "id": "da356806-a41f-4f66-a4f9-74248ef13863",
   "metadata": {
    "tags": []
   },
   "outputs": [
    {
     "name": "stdout",
     "output_type": "stream",
     "text": [
      "i ate 3 apple, so i sicked two days\n",
      "i ate 3 apple, so i sicked two days\n",
      "i ate 3 apple, so i sicked two days, and two days\n"
     ]
    }
   ],
   "source": [
    "#2. format\n",
    "\n",
    "number = 3\n",
    "day = 'two'\n",
    "\n",
    "print(\"i ate {} apple, so i sicked {} days\".format(number, day) )   #신기하네\n",
    "print(\"i ate {0} apple, so i sicked {1} days\".format(number, day) )  \n",
    "print(\"i ate {0} apple, so i sicked {1} days, and {1} days\" .format(number, day) )  "
   ]
  },
  {
   "cell_type": "code",
   "execution_count": 452,
   "id": "9d2c582c-d5ca-4415-8eab-acf6be36a353",
   "metadata": {
    "tags": []
   },
   "outputs": [
    {
     "name": "stdout",
     "output_type": "stream",
     "text": [
      "i ate 3 apple, so i sicked two days\n"
     ]
    }
   ],
   "source": [
    "#3. f-string 이용하기\n",
    "\n",
    "number = 3\n",
    "day = 'two'\n",
    "\n",
    "print(f\"i ate {number} apple, so i sicked {day} days\")"
   ]
  },
  {
   "cell_type": "code",
   "execution_count": null,
   "id": "f5e505de-6e99-4244-af1d-d4a362595ce6",
   "metadata": {},
   "outputs": [],
   "source": [
    "name, age변수에 값을 받아서\n",
    "\"나의 이름은 000이고 나이는 00살입니다\""
   ]
  },
  {
   "cell_type": "code",
   "execution_count": 453,
   "id": "b5541402-d894-48bf-bd4a-36c19d05dd9a",
   "metadata": {
    "tags": []
   },
   "outputs": [
    {
     "name": "stdin",
     "output_type": "stream",
     "text": [
      "name :  홍\n",
      "age :  20\n"
     ]
    },
    {
     "name": "stdout",
     "output_type": "stream",
     "text": [
      "나의 이름은 홍이고 나이는 20살 입니다\n"
     ]
    }
   ],
   "source": [
    "name = input(\"name : \")\n",
    "age = input(\"age : \")\n",
    "\n",
    "print(f\"나의 이름은 {name}이고 나이는 {age}살 입니다\")"
   ]
  },
  {
   "cell_type": "code",
   "execution_count": 454,
   "id": "839a545c-6e50-4815-a8eb-483de9ca89b8",
   "metadata": {
    "tags": []
   },
   "outputs": [
    {
     "name": "stdin",
     "output_type": "stream",
     "text": [
      "어머니 나이 :  50\n",
      "내 나이 :  20\n"
     ]
    },
    {
     "name": "stdout",
     "output_type": "stream",
     "text": [
      "어머니의 나이는 50살이고 내 나이는 20살이고, 합은 70\n"
     ]
    }
   ],
   "source": [
    "age1 = int(input(\"어머니 나이 : \"))\n",
    "age2 = int(input(\"내 나이 : \"))\n",
    "age3 = age1+age2\n",
    "print(f\"어머니의 나이는 {age1}살이고 내 나이는 {age2}살이고, 합은 {age3}\")"
   ]
  },
  {
   "cell_type": "code",
   "execution_count": 464,
   "id": "5eaff2e7-e784-4e11-ace0-9618f0d70cf7",
   "metadata": {
    "tags": []
   },
   "outputs": [
    {
     "name": "stdout",
     "output_type": "stream",
     "text": [
      "pi값은 3.14입니다\n"
     ]
    }
   ],
   "source": [
    "# 0 은 앞에 빈칸수 2는 자릿수\n",
    "\n",
    "\n",
    "pi = 3.141592\n",
    "\n",
    "print( f\"pi값은 {pi:0.2f}입니다\")\n"
   ]
  },
  {
   "cell_type": "code",
   "execution_count": null,
   "id": "f1edd888-ee46-4d04-90fc-16ccb58ee0e8",
   "metadata": {},
   "outputs": [],
   "source": []
  },
  {
   "cell_type": "code",
   "execution_count": null,
   "id": "e945042e-2669-4e47-9d04-d6d25b9e674f",
   "metadata": {},
   "outputs": [],
   "source": [
    "###########################과제 ############"
   ]
  },
  {
   "cell_type": "code",
   "execution_count": null,
   "id": "9d8c8652-ac4b-4e5b-9a32-adb08a49d54b",
   "metadata": {},
   "outputs": [],
   "source": [
    "# 입력으로 받은 숫자가 홀수인지 짝수인지 판별하여 출력하는 코드를 작성하세요.\n",
    "\n",
    "number = int(input(\"숫자를 입력하세요 : \"))\n",
    "if number % 2 == 0:\n",
    "    print(\"짝수입니다.\")\n",
    "else:\n",
    "    print(\"홀수입니다.\")\n",
    "    \n"
   ]
  },
  {
   "cell_type": "code",
   "execution_count": null,
   "id": "72639da9-dcca-449f-a33f-050d1c5db632",
   "metadata": {},
   "outputs": [],
   "source": [
    "import tensorflow as "
   ]
  },
  {
   "cell_type": "code",
   "execution_count": 2,
   "id": "ebdf9386-5f16-48e9-bfbd-2014038da302",
   "metadata": {
    "tags": []
   },
   "outputs": [
    {
     "data": {
      "text/plain": [
       "'anything'"
      ]
     },
     "execution_count": 2,
     "metadata": {},
     "output_type": "execute_result"
    }
   ],
   "source": [
    "a = \"we can do anything\"\n",
    "a[-8: ]"
   ]
  },
  {
   "cell_type": "code",
   "execution_count": 5,
   "id": "f56e3de9-a449-4b9a-b94d-931d7261417c",
   "metadata": {
    "tags": []
   },
   "outputs": [
    {
     "name": "stdin",
     "output_type": "stream",
     "text": [
      "수학성적: 10\n",
      "영어성적: 10\n"
     ]
    },
    {
     "name": "stdout",
     "output_type": "stream",
     "text": [
      "수학성적은 10이고 영어성적은 10이며, 평균은 10.0입니다.\n"
     ]
    }
   ],
   "source": [
    "math = int(input(\"수학성적:\"))\n",
    "english = int(input(\"영어성적:\"))\n",
    "\n",
    "print(f\"수학성적은 {math}이고 영어성적은 {english}이며, 평균은 {(math+english)/2}입니다.\")"
   ]
  },
  {
   "cell_type": "code",
   "execution_count": null,
   "id": "94ed8bea-f624-467b-8009-b29cc889f2ee",
   "metadata": {},
   "outputs": [],
   "source": [
    "123456-1111111"
   ]
  },
  {
   "cell_type": "code",
   "execution_count": null,
   "id": "0095126e-437b-4f09-947a-47e2ffabff41",
   "metadata": {},
   "outputs": [],
   "source": [
    "주민등록번호 num와 이름(name)을 입력받아\n",
    "\"저는 yy\""
   ]
  },
  {
   "cell_type": "code",
   "execution_count": 9,
   "id": "8c954de3-3e8a-4dee-82ab-c81c2dac3c7c",
   "metadata": {
    "tags": []
   },
   "outputs": [
    {
     "name": "stdin",
     "output_type": "stream",
     "text": [
      "주민등록번호 :  123456\n",
      "이름 :  asdasd\n"
     ]
    },
    {
     "name": "stdout",
     "output_type": "stream",
     "text": [
      "저는 12년 34월 56일에 태어난 asdasd입니다\n"
     ]
    }
   ],
   "source": [
    "num = input(\"주민등록번호 : \")\n",
    "name = input(\"이름 : \")\n",
    "\n",
    "\n",
    "print(f\"저는 {num[0:2]}년 {num[2:4]}월 {num[4:]}일에 태어난 {name}입니다\")"
   ]
  },
  {
   "cell_type": "code",
   "execution_count": 27,
   "id": "8bace067-efe8-4e42-839c-41e1aadfe747",
   "metadata": {
    "tags": []
   },
   "outputs": [
    {
     "name": "stdin",
     "output_type": "stream",
     "text": [
      "주민등록번호 :  1234561111111\n"
     ]
    },
    {
     "name": "stdout",
     "output_type": "stream",
     "text": [
      "남자입니다\n"
     ]
    }
   ],
   "source": [
    "num = input(\"주민등록번호 : \")\n",
    "\n",
    "if num[7] == \"2\" or num[7] == \"4\":\n",
    "    print(\"여자입니다\")\n",
    "else:\n",
    "    print(\"남자입니다\")"
   ]
  },
  {
   "cell_type": "code",
   "execution_count": 32,
   "id": "2bd458a0-ad4b-477d-97f2-ff042b9485bf",
   "metadata": {
    "tags": []
   },
   "outputs": [
    {
     "name": "stdout",
     "output_type": "stream",
     "text": [
      "오늘, 3월10일은 오후 3시에 최고기온 20도로 더운 날이 될 것 같다.\n",
      "오늘, 3월10일은 오후 3시에 최고기온 20도로 더운 날이 될 것 같다.\n",
      "오늘, 3월10일은 오후 3시에 최고기온 20도로 더운 날이 될 것 같다.\n"
     ]
    }
   ],
   "source": [
    "day = \"3월10일\"\n",
    "time = 3\n",
    "max_temp = 20 \n",
    "\n",
    "print(f\"오늘, {day}은 오후 {time}시에 최고기온 {max_temp}도로 더운 날이 될 것 같다.\")\n",
    "print(\"오늘, {0}은 오후 {1}시에 최고기온 {2}도로 더운 날이 될 것 같다.\".format(day, time, max_temp))\n",
    "print(\"오늘, %s은 오후 %d시에 최고기온 %d도로 더운 날이 될 것 같다.\"%(day, time, max_temp))"
   ]
  },
  {
   "cell_type": "code",
   "execution_count": null,
   "id": "d3fe544b-1734-4483-a5ff-8acc4d1dd0ef",
   "metadata": {
    "tags": []
   },
   "outputs": [],
   "source": []
  },
  {
   "cell_type": "code",
   "execution_count": 36,
   "id": "4a9daaf7-cc65-47fa-a127-fdb79e8324e5",
   "metadata": {
    "tags": []
   },
   "outputs": [
    {
     "name": "stdout",
     "output_type": "stream",
     "text": [
      "e는 2.7입니다\n"
     ]
    }
   ],
   "source": [
    "e= 2.718281828\n",
    "print(f\"e는 {e:0.1f}입니다\")\n"
   ]
  },
  {
   "cell_type": "code",
   "execution_count": 38,
   "id": "7eef3881-d9c3-414b-b24d-68e06bfa1ab6",
   "metadata": {
    "tags": []
   },
   "outputs": [
    {
     "name": "stdout",
     "output_type": "stream",
     "text": [
      "\n",
      "life is short\n",
      "you need python\n",
      "i love you\n",
      "\n"
     ]
    }
   ],
   "source": [
    "print('''\n",
    "life is short\n",
    "you need python\n",
    "i love you\n",
    "''')"
   ]
  },
  {
   "cell_type": "code",
   "execution_count": 47,
   "id": "d0cb9a2d-8561-4784-8a1c-ea304d37d4bf",
   "metadata": {
    "tags": []
   },
   "outputs": [
    {
     "name": "stdout",
     "output_type": "stream",
     "text": [
      " life is short\n",
      " you need python\n",
      " i love you\n"
     ]
    }
   ],
   "source": [
    "print(' life is short\\n you need python\\n i love you')"
   ]
  },
  {
   "cell_type": "code",
   "execution_count": null,
   "id": "34fdc44f-3c03-4e1e-a4e7-b5aa581eb636",
   "metadata": {},
   "outputs": [],
   "source": []
  },
  {
   "cell_type": "markdown",
   "id": "82b9d0fe-7f32-4277-9bcc-acadb889d33e",
   "metadata": {},
   "source": [
    "### 문자열 함수수"
   ]
  },
  {
   "cell_type": "code",
   "execution_count": 180,
   "id": "fe4a3961-d4d3-46de-b523-606a55ff2d53",
   "metadata": {
    "tags": []
   },
   "outputs": [],
   "source": [
    "a = \"hello\""
   ]
  },
  {
   "cell_type": "code",
   "execution_count": 51,
   "id": "d0cd49ed-e4da-4717-a079-51e75cd808d0",
   "metadata": {
    "tags": []
   },
   "outputs": [
    {
     "data": {
      "text/plain": [
       "5"
      ]
     },
     "execution_count": 51,
     "metadata": {},
     "output_type": "execute_result"
    }
   ],
   "source": [
    "len(a)"
   ]
  },
  {
   "cell_type": "raw",
   "id": "a0acb90a-9046-4379-91c5-92a48b394203",
   "metadata": {},
   "source": [
    "객체지향프로그래밍 (Object Oriented Programing) \n",
    ": object"
   ]
  },
  {
   "cell_type": "code",
   "execution_count": 53,
   "id": "b27fe641-3bc9-420e-806d-2a0377d74ed3",
   "metadata": {
    "tags": []
   },
   "outputs": [
    {
     "data": {
      "text/plain": [
       "'HELLO'"
      ]
     },
     "execution_count": 53,
     "metadata": {},
     "output_type": "execute_result"
    }
   ],
   "source": [
    "a.upper()"
   ]
  },
  {
   "cell_type": "code",
   "execution_count": 54,
   "id": "8fa1fd54-0f08-4e16-ab22-6070fdd1801e",
   "metadata": {
    "tags": []
   },
   "outputs": [
    {
     "data": {
      "text/plain": [
       "'hello'"
      ]
     },
     "execution_count": 54,
     "metadata": {},
     "output_type": "execute_result"
    }
   ],
   "source": [
    "a.lower()"
   ]
  },
  {
   "cell_type": "code",
   "execution_count": null,
   "id": "a788af41-01fb-4bef-9337-38e97cd3f980",
   "metadata": {},
   "outputs": [],
   "source": [
    "car\n",
    "\n",
    "동사,   메소드,     method, \n",
    "형용사, 에트리뷰트, attribute, 속성\n",
    "run(car) : 예전방식 #달린다. 차가\n",
    "car.run()           #차가. 달린다\n",
    "car.turn()\n",
    "car.color           \n",
    "car.size            #차. 사이즈   형용사\n",
    "\n",
    "bird.sing()\n",
    "bird. fly()"
   ]
  },
  {
   "cell_type": "code",
   "execution_count": 56,
   "id": "4fc5eb7e-640c-418c-a184-7c8110d5731e",
   "metadata": {
    "tags": []
   },
   "outputs": [
    {
     "data": {
      "text/plain": [
       "str"
      ]
     },
     "execution_count": 56,
     "metadata": {},
     "output_type": "execute_result"
    }
   ],
   "source": [
    "a\n",
    "type(a)"
   ]
  },
  {
   "cell_type": "code",
   "execution_count": 57,
   "id": "4df859e3-4281-4986-ab18-5ecbd1a5d883",
   "metadata": {
    "tags": []
   },
   "outputs": [
    {
     "data": {
      "text/plain": [
       "'HELLO'"
      ]
     },
     "execution_count": 57,
     "metadata": {},
     "output_type": "execute_result"
    }
   ],
   "source": [
    "#대문자로\n",
    "a.upper()\n",
    "a.upper().lower().capitalizep()"
   ]
  },
  {
   "cell_type": "code",
   "execution_count": 58,
   "id": "0f801a60-7ca2-41b4-a8a3-905fd3f2919c",
   "metadata": {
    "tags": []
   },
   "outputs": [
    {
     "data": {
      "text/plain": [
       "'hello'"
      ]
     },
     "execution_count": 58,
     "metadata": {},
     "output_type": "execute_result"
    }
   ],
   "source": [
    "a.lower()"
   ]
  },
  {
   "cell_type": "code",
   "execution_count": 59,
   "id": "ef182807-bc53-467e-bf59-95e4d6512bc6",
   "metadata": {
    "tags": []
   },
   "outputs": [
    {
     "data": {
      "text/plain": [
       "'Hello'"
      ]
     },
     "execution_count": 59,
     "metadata": {},
     "output_type": "execute_result"
    }
   ],
   "source": [
    "a.capitalize()  #첫글자만 대문자"
   ]
  },
  {
   "cell_type": "code",
   "execution_count": 67,
   "id": "57678cd0-f2de-4985-9372-5364b938b91f",
   "metadata": {
    "tags": []
   },
   "outputs": [
    {
     "data": {
      "text/plain": [
       "'Good Morning'"
      ]
     },
     "execution_count": 67,
     "metadata": {},
     "output_type": "execute_result"
    }
   ],
   "source": [
    "\"good morning\".title() #글자글자 앞글자 대문자"
   ]
  },
  {
   "cell_type": "code",
   "execution_count": 183,
   "id": "c3d6195d-3d27-473a-9657-7d9e8804d58f",
   "metadata": {
    "tags": []
   },
   "outputs": [
    {
     "data": {
      "text/plain": [
       "0"
      ]
     },
     "execution_count": 183,
     "metadata": {},
     "output_type": "execute_result"
    }
   ],
   "source": [
    "# 인자, 인수, argument 옵션 \n",
    "# 매개변수, 파마미터 parameter\n",
    "\n",
    "a.count(\"e\")\n",
    "a.count(\"l\")\n",
    "\"hello\".count(\"1\")"
   ]
  },
  {
   "cell_type": "code",
   "execution_count": 76,
   "id": "de627eeb-2233-41fe-a8b9-8e69174bff8f",
   "metadata": {
    "tags": []
   },
   "outputs": [
    {
     "data": {
      "text/plain": [
       "-1"
      ]
     },
     "execution_count": 76,
     "metadata": {},
     "output_type": "execute_result"
    }
   ],
   "source": [
    "a.find(\"a\")"
   ]
  },
  {
   "cell_type": "code",
   "execution_count": 79,
   "id": "fc261ef8-78e2-4b28-94fb-74078b8efc99",
   "metadata": {
    "tags": []
   },
   "outputs": [
    {
     "ename": "ValueError",
     "evalue": "substring not found",
     "output_type": "error",
     "traceback": [
      "\u001b[1;31m---------------------------------------------------------------------------\u001b[0m",
      "\u001b[1;31mValueError\u001b[0m                                Traceback (most recent call last)",
      "Cell \u001b[1;32mIn[79], line 1\u001b[0m\n\u001b[1;32m----> 1\u001b[0m \u001b[43ma\u001b[49m\u001b[38;5;241;43m.\u001b[39;49m\u001b[43mindex\u001b[49m\u001b[43m(\u001b[49m\u001b[38;5;124;43m\"\u001b[39;49m\u001b[38;5;124;43ma\u001b[39;49m\u001b[38;5;124;43m\"\u001b[39;49m\u001b[43m)\u001b[49m\n",
      "\u001b[1;31mValueError\u001b[0m: substring not found"
     ]
    }
   ],
   "source": [
    "a.index(\"a\")"
   ]
  },
  {
   "cell_type": "code",
   "execution_count": 82,
   "id": "38853bc9-f8b7-4e63-b321-6c06d60d05a6",
   "metadata": {
    "tags": []
   },
   "outputs": [
    {
     "data": {
      "text/plain": [
       "','"
      ]
     },
     "execution_count": 82,
     "metadata": {},
     "output_type": "execute_result"
    }
   ],
   "source": [
    "\",\".join(\"abcd\")             # 앞에 값을 join 안에 넣는다 헷갈리면 안된다\n",
    "\"abcd\".join(\",\")"
   ]
  },
  {
   "cell_type": "code",
   "execution_count": 186,
   "id": "98eeba96-54ab-45e3-b2e1-5fcd95956949",
   "metadata": {
    "tags": []
   },
   "outputs": [
    {
     "data": {
      "text/plain": [
       "['a', 'b', 'c', 'd']"
      ]
     },
     "execution_count": 186,
     "metadata": {},
     "output_type": "execute_result"
    }
   ],
   "source": [
    "\"a,b,c,d\".split(\",\")\n",
    "\"a|b|c|d\".split(\"|\")\n"
   ]
  },
  {
   "cell_type": "code",
   "execution_count": 86,
   "id": "d5989355-5a33-4005-af4f-ed52043b50d6",
   "metadata": {
    "tags": []
   },
   "outputs": [
    {
     "data": {
      "text/plain": [
       "['life', 'is', 'short']"
      ]
     },
     "execution_count": 86,
     "metadata": {},
     "output_type": "execute_result"
    }
   ],
   "source": [
    "a = \"life is short\"\n",
    "#단어별로 쪼개라\n",
    "a.split(\" \")"
   ]
  },
  {
   "cell_type": "code",
   "execution_count": 95,
   "id": "056b1839-1df3-4a6d-bdb0-e12fa7935d55",
   "metadata": {
    "tags": []
   },
   "outputs": [
    {
     "name": "stdin",
     "output_type": "stream",
     "text": [
      "입력하세요 :  홍길동 20\n"
     ]
    },
    {
     "name": "stdout",
     "output_type": "stream",
     "text": [
      "나의 이름은 홍길동이고 나이는 20입니다\n"
     ]
    }
   ],
   "source": [
    "name, age = input(\"입력하세요 : \").split(\" \")\n",
    "print(f\"나의 이름은 {name}이고 나이는 {age}입니다\")"
   ]
  },
  {
   "cell_type": "code",
   "execution_count": 96,
   "id": "a8bf43e1-f6fc-46e3-8c26-ae3612e0b8bf",
   "metadata": {
    "tags": []
   },
   "outputs": [
    {
     "name": "stdin",
     "output_type": "stream",
     "text": [
      "입력하세요 :  1 2 3 4 5 6\n"
     ]
    },
    {
     "data": {
      "text/plain": [
       "['1', '2', '3', '4', '5', '6']"
      ]
     },
     "execution_count": 96,
     "metadata": {},
     "output_type": "execute_result"
    }
   ],
   "source": [
    "input(\"입력하세요 : \").split(\" \")"
   ]
  },
  {
   "cell_type": "code",
   "execution_count": 102,
   "id": "9cc26116-c86d-4eb6-838d-31d134367283",
   "metadata": {
    "tags": []
   },
   "outputs": [
    {
     "data": {
      "text/plain": [
       "'       herro      '"
      ]
     },
     "execution_count": 102,
     "metadata": {},
     "output_type": "execute_result"
    }
   ],
   "source": [
    "a = \"       hello      \"\n",
    "a.rstrip()    # 오른쪽 공백 지우기 \n",
    "   \n",
    "a.strip()     # 양쪽 지우기\n",
    "a.replace(\"l\", 'r')   #문자열 바꾸기"
   ]
  },
  {
   "cell_type": "markdown",
   "id": "2eb1e707-83fa-4b31-94b5-712f8c51aad8",
   "metadata": {
    "tags": []
   },
   "source": [
    "```\n",
    "\n",
    "# 자료형(데이터 타입)\n",
    "1. 문자형\n",
    "2. 숫자형(정수, 실수)\n",
    "3. 참거짓\n",
    "# 파이썬 자료형(데이터 타입)\n",
    "1. 리스트 60\n",
    "2. 튜플 9\n",
    "3. 딕션너리 30\n",
    "4. 집합 1\n",
    "\n",
    "```"
   ]
  },
  {
   "cell_type": "markdown",
   "id": "dd4b5ece-f690-4cc8-acf2-66071b3f26cd",
   "metadata": {},
   "source": [
    "## 리스트\n",
    "list\n",
    " - 2개 이상이면 묶는다"
   ]
  },
  {
   "cell_type": "markdown",
   "id": "f73ea104-9be3-4620-ac88-51c5bb479b2c",
   "metadata": {},
   "source": [
    " - 만들기\n",
    " c\n",
    " r\n",
    " u\n",
    " d"
   ]
  },
  {
   "cell_type": "code",
   "execution_count": 119,
   "id": "5234b396-5a89-4196-b580-b7ea1dd8d240",
   "metadata": {
    "tags": []
   },
   "outputs": [
    {
     "data": {
      "text/plain": [
       "[1, 2, 'hello', [3, 4, 5]]"
      ]
     },
     "execution_count": 120,
     "metadata": {},
     "output_type": "execute_result"
    }
   ],
   "source": [
    "# 리스트 만들기\n",
    "a = [1,2, \"hello\" ]\n",
    "a"
   ]
  },
  {
   "cell_type": "code",
   "execution_count": 116,
   "id": "d64fc52b-a3c3-4cfc-b0fe-04d9930e00e9",
   "metadata": {
    "tags": []
   },
   "outputs": [
    {
     "data": {
      "text/plain": [
       "list"
      ]
     },
     "execution_count": 116,
     "metadata": {},
     "output_type": "execute_result"
    }
   ],
   "source": [
    "type(a)"
   ]
  },
  {
   "cell_type": "code",
   "execution_count": 121,
   "id": "0277fc93-e335-430a-b336-dbf5caf6f8fa",
   "metadata": {
    "tags": []
   },
   "outputs": [
    {
     "data": {
      "text/plain": [
       "[1, 2, 'hello', [3, 4, 5]]"
      ]
     },
     "execution_count": 121,
     "metadata": {},
     "output_type": "execute_result"
    }
   ],
   "source": [
    "# 중첩 리스트 (nested list)\n",
    "a = [1, 2, 'hello', [3, 4, 5]]\n",
    "a"
   ]
  },
  {
   "cell_type": "markdown",
   "id": "a919969b-a5bb-4fca-9459-7cb07e8db9d7",
   "metadata": {},
   "source": [
    " - 접근하기 Read"
   ]
  },
  {
   "cell_type": "code",
   "execution_count": 125,
   "id": "78d1c6b3-8b74-48f8-a2e1-53de183e6636",
   "metadata": {
    "tags": []
   },
   "outputs": [
    {
     "data": {
      "text/plain": [
       "[1, 2, 'hello', [3, 4, 5], ['good morning']]"
      ]
     },
     "execution_count": 125,
     "metadata": {},
     "output_type": "execute_result"
    }
   ],
   "source": [
    "a = [1, 2, 'hello', [3, 4, 5], [\"good morning\"]]\n",
    "a"
   ]
  },
  {
   "cell_type": "code",
   "execution_count": 126,
   "id": "07f73aa8-b708-4d79-9766-de2ea31de03c",
   "metadata": {
    "tags": []
   },
   "outputs": [
    {
     "data": {
      "text/plain": [
       "5"
      ]
     },
     "execution_count": 126,
     "metadata": {},
     "output_type": "execute_result"
    }
   ],
   "source": [
    "len(a)"
   ]
  },
  {
   "cell_type": "code",
   "execution_count": 149,
   "id": "b28e987a-fb86-406a-83bb-1ca5bc7a3384",
   "metadata": {
    "tags": []
   },
   "outputs": [
    {
     "data": {
      "text/plain": [
       "'e'"
      ]
     },
     "execution_count": 149,
     "metadata": {},
     "output_type": "execute_result"
    }
   ],
   "source": [
    "a[2][1]"
   ]
  },
  {
   "cell_type": "code",
   "execution_count": 150,
   "id": "7d5baf53-695b-4ed7-b51e-11c1efdf9dcd",
   "metadata": {
    "tags": []
   },
   "outputs": [
    {
     "data": {
      "text/plain": [
       "'morning'"
      ]
     },
     "execution_count": 150,
     "metadata": {},
     "output_type": "execute_result"
    }
   ],
   "source": [
    "a[4][0][5:]"
   ]
  },
  {
   "cell_type": "code",
   "execution_count": 153,
   "id": "1287d56a-4b01-4fce-8de6-4ba1aa6eb8a0",
   "metadata": {
    "tags": []
   },
   "outputs": [
    {
     "data": {
      "text/plain": [
       "[2, 3]"
      ]
     },
     "execution_count": 153,
     "metadata": {},
     "output_type": "execute_result"
    }
   ],
   "source": [
    "#p76\n",
    "a = [1,2,3,4,5]\n",
    "a[1:3]"
   ]
  },
  {
   "cell_type": "code",
   "execution_count": 161,
   "id": "7bd09cb3-1ae9-47e5-ab60-cd64986e951d",
   "metadata": {
    "tags": []
   },
   "outputs": [],
   "source": [
    "a = [1,2]\n",
    "b = [3,4]"
   ]
  },
  {
   "cell_type": "code",
   "execution_count": 168,
   "id": "f8e2875e-c3ca-4655-9099-a5f90581cbce",
   "metadata": {
    "tags": []
   },
   "outputs": [
    {
     "data": {
      "text/plain": [
       "[1, 2, 3, 4]"
      ]
     },
     "execution_count": 168,
     "metadata": {},
     "output_type": "execute_result"
    }
   ],
   "source": [
    "a + b # 뺴기 나누기는 안된다 하지만 숫자랑 *는 반복하기가 된다"
   ]
  },
  {
   "cell_type": "markdown",
   "id": "ce6400b1-66e3-43a6-8bb1-72aed454212f",
   "metadata": {
    "tags": []
   },
   "source": [
    " - 리스트 연산하기"
   ]
  },
  {
   "cell_type": "code",
   "execution_count": 169,
   "id": "3fbc3357-80bc-4c6c-b93e-7c8857328a9d",
   "metadata": {
    "tags": []
   },
   "outputs": [],
   "source": [
    "import numpy as np"
   ]
  },
  {
   "cell_type": "code",
   "execution_count": 170,
   "id": "99621220-8bdc-4900-ac32-d349474d6ee3",
   "metadata": {
    "tags": []
   },
   "outputs": [
    {
     "data": {
      "text/plain": [
       "array([1, 2])"
      ]
     },
     "execution_count": 170,
     "metadata": {},
     "output_type": "execute_result"
    }
   ],
   "source": [
    "a = np.array(a)\n",
    "a"
   ]
  },
  {
   "cell_type": "code",
   "execution_count": 171,
   "id": "abac0a19-401f-400f-99ac-c40c6e5d2c7b",
   "metadata": {
    "tags": []
   },
   "outputs": [
    {
     "data": {
      "text/plain": [
       "array([3, 4])"
      ]
     },
     "execution_count": 171,
     "metadata": {},
     "output_type": "execute_result"
    }
   ],
   "source": [
    "b = np.array(b)\n",
    "b"
   ]
  },
  {
   "cell_type": "code",
   "execution_count": 172,
   "id": "2a85f678-6b9d-47d9-abf6-afddafca5f0e",
   "metadata": {
    "tags": []
   },
   "outputs": [
    {
     "data": {
      "text/plain": [
       "array([4, 6])"
      ]
     },
     "execution_count": 172,
     "metadata": {},
     "output_type": "execute_result"
    }
   ],
   "source": [
    "a+b"
   ]
  },
  {
   "cell_type": "code",
   "execution_count": 173,
   "id": "f42518c3-1922-4e25-86a0-3d0c21838942",
   "metadata": {
    "tags": []
   },
   "outputs": [
    {
     "name": "stdout",
     "output_type": "stream",
     "text": [
      "[4 6]\n",
      "[-2 -2]\n",
      "[3 8]\n",
      "[0.33333333 0.5       ]\n"
     ]
    }
   ],
   "source": [
    "print(a+b)\n",
    "print(a-b)\n",
    "print(a*b)\n",
    "print(a/b)"
   ]
  },
  {
   "cell_type": "code",
   "execution_count": 204,
   "id": "aec32fe9-456b-4e96-a51b-d13c17d7cc17",
   "metadata": {
    "tags": []
   },
   "outputs": [
    {
     "data": {
      "text/plain": [
       "[1, 2, 3, 4]"
      ]
     },
     "execution_count": 204,
     "metadata": {},
     "output_type": "execute_result"
    }
   ],
   "source": [
    "li = [1,2,3,4]\n",
    "li"
   ]
  },
  {
   "cell_type": "code",
   "execution_count": 202,
   "id": "9837a67e-5a0f-411d-a3a9-171e882e5441",
   "metadata": {
    "tags": []
   },
   "outputs": [
    {
     "data": {
      "text/plain": [
       "[1, 20, 3, 4, 8]"
      ]
     },
     "execution_count": 202,
     "metadata": {},
     "output_type": "execute_result"
    }
   ],
   "source": [
    "li[1] = 20\n",
    "li"
   ]
  },
  {
   "cell_type": "code",
   "execution_count": 203,
   "id": "d7ab9755-ab72-482a-8190-3b376e3f41f3",
   "metadata": {
    "tags": []
   },
   "outputs": [],
   "source": [
    "del li          #삭제하기"
   ]
  },
  {
   "cell_type": "code",
   "execution_count": 205,
   "id": "61e620ce-4103-4a12-803f-b25870dc10bb",
   "metadata": {
    "tags": []
   },
   "outputs": [
    {
     "data": {
      "text/plain": [
       "[1, 3, 4]"
      ]
     },
     "execution_count": 205,
     "metadata": {},
     "output_type": "execute_result"
    }
   ],
   "source": [
    "del li[1]\n",
    "li"
   ]
  },
  {
   "cell_type": "code",
   "execution_count": 206,
   "id": "c3cf4120-9063-41f1-b378-871715fd8d76",
   "metadata": {
    "tags": []
   },
   "outputs": [],
   "source": [
    "li = [1,2,3,'Hello']"
   ]
  },
  {
   "cell_type": "code",
   "execution_count": 209,
   "id": "2665e4f8-1eef-40b5-aae7-d17a13e355cb",
   "metadata": {
    "tags": []
   },
   "outputs": [],
   "source": [
    "li[3] = 'hello'"
   ]
  },
  {
   "cell_type": "code",
   "execution_count": 210,
   "id": "f6e60517-f390-4e7f-821f-d280c44a3f45",
   "metadata": {
    "tags": []
   },
   "outputs": [
    {
     "data": {
      "text/plain": [
       "[1, 2, 3, 'hello']"
      ]
     },
     "execution_count": 210,
     "metadata": {},
     "output_type": "execute_result"
    }
   ],
   "source": [
    "li"
   ]
  },
  {
   "cell_type": "code",
   "execution_count": 214,
   "id": "8d192f3c-e993-46ed-a8e7-a78fd2b381aa",
   "metadata": {
    "tags": []
   },
   "outputs": [
    {
     "ename": "TypeError",
     "evalue": "'str' object does not support item assignment",
     "output_type": "error",
     "traceback": [
      "\u001b[1;31m---------------------------------------------------------------------------\u001b[0m",
      "\u001b[1;31mTypeError\u001b[0m                                 Traceback (most recent call last)",
      "Cell \u001b[1;32mIn[214], line 1\u001b[0m\n\u001b[1;32m----> 1\u001b[0m \u001b[43mli\u001b[49m\u001b[43m[\u001b[49m\u001b[38;5;241;43m3\u001b[39;49m\u001b[43m]\u001b[49m\u001b[43m[\u001b[49m\u001b[38;5;241;43m0\u001b[39;49m\u001b[43m]\u001b[49m \u001b[38;5;241m=\u001b[39m \u001b[38;5;124m'\u001b[39m\u001b[38;5;124mH\u001b[39m\u001b[38;5;124m'\u001b[39m    \u001b[38;5;66;03m#문자열은 이렇게 수정하지 못한다\u001b[39;00m\n\u001b[0;32m      2\u001b[0m b \u001b[38;5;241m=\u001b[39m li[\u001b[38;5;241m3\u001b[39m]\n",
      "\u001b[1;31mTypeError\u001b[0m: 'str' object does not support item assignment"
     ]
    }
   ],
   "source": [
    "li[3][0] = 'H'    #문자열은 이렇게 수정하지 못한다\n"
   ]
  },
  {
   "cell_type": "code",
   "execution_count": 218,
   "id": "a59c4249-1be8-4a70-a961-1935aeb93f08",
   "metadata": {
    "tags": []
   },
   "outputs": [
    {
     "data": {
      "text/plain": [
       "'Hello'"
      ]
     },
     "execution_count": 218,
     "metadata": {},
     "output_type": "execute_result"
    }
   ],
   "source": [
    "b = li[3]              # 글자를 바꾸고 싶다면 이렇게 해야한다.\n",
    "b.replace(\"h\",\"H\")     # shift + tab 누르면 설명서가 뜬다"
   ]
  },
  {
   "cell_type": "code",
   "execution_count": 223,
   "id": "8638913c-852c-44b6-b0b1-0e15336fa654",
   "metadata": {
    "tags": []
   },
   "outputs": [
    {
     "data": {
      "text/plain": [
       "[1, 2, 3, 4]"
      ]
     },
     "execution_count": 223,
     "metadata": {},
     "output_type": "execute_result"
    }
   ],
   "source": [
    "a= [1,2,3]            #리스트 추가하기\n",
    "a.append(4)\n",
    "a"
   ]
  },
  {
   "cell_type": "code",
   "execution_count": 229,
   "id": "d489e947-da4c-4a49-bdd2-718a33affccf",
   "metadata": {
    "tags": []
   },
   "outputs": [],
   "source": [
    "del a[3]\n",
    "a.append(\"hello\")\n",
    "a.append(4)"
   ]
  },
  {
   "cell_type": "code",
   "execution_count": 244,
   "id": "80241b55-32a4-47e1-af4d-ab41fad568ca",
   "metadata": {
    "tags": []
   },
   "outputs": [
    {
     "name": "stdout",
     "output_type": "stream",
     "text": [
      "[1, 2, 3, 'a']\n",
      "\n",
      "[1, 2, 3, 'a', 'b']\n",
      "\n",
      "[1, 2, 3, 'a', 'b', 'c']\n",
      "\n",
      "[1, 2, 3, 'a', 'b', 'c', 'd']\n",
      "\n"
     ]
    }
   ],
   "source": [
    "a = [1,2,3]\n",
    "for i in  [ \"a\",\"b\",\"c\",\"d\"]:\n",
    "    a.append(i)\n",
    "    print(a)\n",
    "    print()"
   ]
  },
  {
   "cell_type": "code",
   "execution_count": 250,
   "id": "ccb0a5d3-3406-46fa-942b-c88238b5c7cb",
   "metadata": {
    "tags": []
   },
   "outputs": [],
   "source": [
    "a = []\n",
    "for i in  [ \"a\",\"b\",\"c\",\"d\"]:\n",
    "    a.append(i)"
   ]
  },
  {
   "cell_type": "code",
   "execution_count": 251,
   "id": "5f6acfb0-6218-44ac-83d6-5b755981e3a9",
   "metadata": {
    "tags": []
   },
   "outputs": [
    {
     "data": {
      "text/plain": [
       "['a', 'b', 'c', 'd']"
      ]
     },
     "execution_count": 251,
     "metadata": {},
     "output_type": "execute_result"
    }
   ],
   "source": [
    "a"
   ]
  },
  {
   "cell_type": "code",
   "execution_count": 282,
   "id": "62a31469-1164-4286-87e3-8c4877947ef8",
   "metadata": {
    "tags": []
   },
   "outputs": [
    {
     "data": {
      "text/plain": [
       "['c', 'b', 'a']"
      ]
     },
     "execution_count": 282,
     "metadata": {},
     "output_type": "execute_result"
    }
   ],
   "source": [
    "a = [\"a\", \"c\", \"b\"]                        #리스트 정렬\n",
    "a.sort()\n",
    "a.reverse()                                 #리스트 거꾸로(뒤집기)\n",
    "a"
   ]
  },
  {
   "cell_type": "code",
   "execution_count": 287,
   "id": "82b7e024-1f6d-40ec-83af-022ee4021d73",
   "metadata": {
    "tags": []
   },
   "outputs": [
    {
     "data": {
      "text/plain": [
       "1"
      ]
     },
     "execution_count": 287,
     "metadata": {},
     "output_type": "execute_result"
    }
   ],
   "source": [
    "a.index(\"b\")"
   ]
  },
  {
   "cell_type": "code",
   "execution_count": 314,
   "id": "8346a1d3-5ba3-4ca9-b376-6b049ad2e48a",
   "metadata": {
    "tags": []
   },
   "outputs": [
    {
     "data": {
      "text/plain": [
       "['b', 'd', 'a']"
      ]
     },
     "execution_count": 314,
     "metadata": {},
     "output_type": "execute_result"
    }
   ],
   "source": [
    "a.insert(1,\"d\")                        #insert(index, '넣고싶은거')\n",
    "a"
   ]
  },
  {
   "cell_type": "code",
   "execution_count": 313,
   "id": "c2c9e922-1287-4e21-9ca2-e702ddbe69d2",
   "metadata": {
    "tags": []
   },
   "outputs": [
    {
     "data": {
      "text/plain": [
       "['b', 'a']"
      ]
     },
     "execution_count": 313,
     "metadata": {},
     "output_type": "execute_result"
    }
   ],
   "source": [
    "a.remove(\"d\")                        # 한번만 제거한다 \n",
    "a"
   ]
  },
  {
   "cell_type": "code",
   "execution_count": 320,
   "id": "1f2e3a3b-6ea3-43a8-970b-58383ab3fb39",
   "metadata": {
    "tags": []
   },
   "outputs": [
    {
     "data": {
      "text/plain": [
       "'b'"
      ]
     },
     "execution_count": 320,
     "metadata": {},
     "output_type": "execute_result"
    }
   ],
   "source": [
    "a.pop()                            #맨뒤를 지우는데 지운걸 확인시켜준다\n",
    "                                   # stack 이라고도한다, 차곡차곡 뒤에서 부터 쌓기때메 뒤부터 지워준다"
   ]
  },
  {
   "cell_type": "code",
   "execution_count": 326,
   "id": "2b5c3bd3-8dd9-4bf6-b379-c536f7ec1059",
   "metadata": {
    "tags": []
   },
   "outputs": [
    {
     "data": {
      "text/plain": [
       "2"
      ]
     },
     "execution_count": 326,
     "metadata": {},
     "output_type": "execute_result"
    }
   ],
   "source": [
    "li = [\"a\",\"b\",'b']\n",
    "li.count('b')"
   ]
  },
  {
   "cell_type": "code",
   "execution_count": 328,
   "id": "aa6ee375-53e1-467c-a0b2-f7bee4f6a26d",
   "metadata": {
    "tags": []
   },
   "outputs": [
    {
     "data": {
      "text/plain": [
       "['a', 'b', 'b', 1, 2, 3]"
      ]
     },
     "execution_count": 328,
     "metadata": {},
     "output_type": "execute_result"
    }
   ],
   "source": [
    "li.extend([1,2,3])                  #리스트 확장하기\n",
    "li"
   ]
  },
  {
   "cell_type": "code",
   "execution_count": 335,
   "id": "3ba3ba85-f8d1-42fd-affa-7024a7e388bd",
   "metadata": {
    "tags": []
   },
   "outputs": [],
   "source": [
    "li=li + [1,2,3]"
   ]
  },
  {
   "cell_type": "code",
   "execution_count": 339,
   "id": "1055e115-d81c-4cdc-bbd4-6e7465fa0e4b",
   "metadata": {
    "tags": []
   },
   "outputs": [],
   "source": [
    "a = [1,2,3]"
   ]
  },
  {
   "cell_type": "code",
   "execution_count": 341,
   "id": "2ef6ca24-6b55-4969-b7cd-42ef495a48fa",
   "metadata": {
    "tags": []
   },
   "outputs": [
    {
     "data": {
      "text/plain": [
       "[1, 2, 3]"
      ]
     },
     "execution_count": 341,
     "metadata": {},
     "output_type": "execute_result"
    }
   ],
   "source": [
    "b = a\n",
    "b"
   ]
  },
  {
   "cell_type": "code",
   "execution_count": 342,
   "id": "0b93e3e6-913e-48a8-b06f-dfe2b4be9573",
   "metadata": {
    "tags": []
   },
   "outputs": [
    {
     "data": {
      "text/plain": [
       "[1, 2, 3]"
      ]
     },
     "execution_count": 342,
     "metadata": {},
     "output_type": "execute_result"
    }
   ],
   "source": [
    "c = a.copy()\n",
    "c"
   ]
  },
  {
   "cell_type": "code",
   "execution_count": 343,
   "id": "889738b4-db48-4c95-9034-9439ccf71ca5",
   "metadata": {
    "tags": []
   },
   "outputs": [
    {
     "data": {
      "text/plain": [
       "[100, 2, 3]"
      ]
     },
     "execution_count": 343,
     "metadata": {},
     "output_type": "execute_result"
    }
   ],
   "source": [
    "c[0] = 100\n",
    "c"
   ]
  },
  {
   "cell_type": "code",
   "execution_count": 344,
   "id": "59dfc78a-212e-46bd-95b9-e018e5e052dc",
   "metadata": {
    "tags": []
   },
   "outputs": [
    {
     "data": {
      "text/plain": [
       "[1, 2, 3]"
      ]
     },
     "execution_count": 344,
     "metadata": {},
     "output_type": "execute_result"
    }
   ],
   "source": [
    "a"
   ]
  },
  {
   "cell_type": "code",
   "execution_count": 345,
   "id": "5e7a909f-aa72-4538-a164-3bd6c4886bb7",
   "metadata": {
    "tags": []
   },
   "outputs": [
    {
     "data": {
      "text/plain": [
       "[100, 2, 3]"
      ]
     },
     "execution_count": 345,
     "metadata": {},
     "output_type": "execute_result"
    }
   ],
   "source": [
    "b[0] = 100\n",
    "b"
   ]
  },
  {
   "cell_type": "code",
   "execution_count": 347,
   "id": "802d8f8c-097c-47e1-99ed-edd241c559a4",
   "metadata": {
    "tags": []
   },
   "outputs": [
    {
     "data": {
      "text/plain": [
       "[100, 2, 3]"
      ]
     },
     "execution_count": 347,
     "metadata": {},
     "output_type": "execute_result"
    }
   ],
   "source": [
    "a                            # b에 100을 넣었지만 b = a 이기때메 a를 수정하고 있는거다"
   ]
  },
  {
   "cell_type": "markdown",
   "id": "2fb4b1ec-54a3-4430-9ce0-49a1f2732089",
   "metadata": {},
   "source": [
    " ## tuple ( 튜플, 투플)\n",
    "  - 99% 리스트와 같다\n",
    "  - 리스트와 다른 점은..."
   ]
  },
  {
   "cell_type": "code",
   "execution_count": 356,
   "id": "9a31b721-7ccf-4531-8b5f-00dce7b420a2",
   "metadata": {
    "tags": []
   },
   "outputs": [
    {
     "data": {
      "text/plain": [
       "(1, 2, 3)"
      ]
     },
     "execution_count": 356,
     "metadata": {},
     "output_type": "execute_result"
    }
   ],
   "source": [
    "a = (1,2,3)\n",
    "a"
   ]
  },
  {
   "cell_type": "code",
   "execution_count": 349,
   "id": "e243f259-e1a3-4ab5-9313-d83dae0220e9",
   "metadata": {
    "tags": []
   },
   "outputs": [
    {
     "data": {
      "text/plain": [
       "tuple"
      ]
     },
     "execution_count": 349,
     "metadata": {},
     "output_type": "execute_result"
    }
   ],
   "source": [
    "type(a)"
   ]
  },
  {
   "cell_type": "code",
   "execution_count": 351,
   "id": "fec3f947-7537-4f79-a4f2-687795d2c24c",
   "metadata": {
    "tags": []
   },
   "outputs": [
    {
     "data": {
      "text/plain": [
       "3"
      ]
     },
     "execution_count": 351,
     "metadata": {},
     "output_type": "execute_result"
    }
   ],
   "source": [
    "a[0]\n",
    "a[-1]"
   ]
  },
  {
   "cell_type": "code",
   "execution_count": 352,
   "id": "b8b144d3-80ca-471e-ba8e-e25257fd307b",
   "metadata": {
    "tags": []
   },
   "outputs": [
    {
     "ename": "TypeError",
     "evalue": "'tuple' object does not support item assignment",
     "output_type": "error",
     "traceback": [
      "\u001b[1;31m---------------------------------------------------------------------------\u001b[0m",
      "\u001b[1;31mTypeError\u001b[0m                                 Traceback (most recent call last)",
      "Cell \u001b[1;32mIn[352], line 1\u001b[0m\n\u001b[1;32m----> 1\u001b[0m \u001b[43ma\u001b[49m\u001b[43m[\u001b[49m\u001b[38;5;241;43m0\u001b[39;49m\u001b[43m]\u001b[49m \u001b[38;5;241m=\u001b[39m \u001b[38;5;241m10\u001b[39m\n",
      "\u001b[1;31mTypeError\u001b[0m: 'tuple' object does not support item assignment"
     ]
    }
   ],
   "source": [
    "a[0] = 10"
   ]
  },
  {
   "cell_type": "code",
   "execution_count": 353,
   "id": "67b1a9a9-d43c-4460-b993-734af1f49a05",
   "metadata": {
    "tags": []
   },
   "outputs": [
    {
     "data": {
      "text/plain": [
       "(1, 2, 3)"
      ]
     },
     "execution_count": 353,
     "metadata": {},
     "output_type": "execute_result"
    }
   ],
   "source": [
    "a"
   ]
  },
  {
   "cell_type": "code",
   "execution_count": 357,
   "id": "8365f155-9517-4dd4-915f-05944570af50",
   "metadata": {
    "tags": []
   },
   "outputs": [],
   "source": [
    "del a"
   ]
  },
  {
   "cell_type": "code",
   "execution_count": 358,
   "id": "82206aac-5e53-41e0-8b38-a2c58406a711",
   "metadata": {
    "tags": []
   },
   "outputs": [
    {
     "data": {
      "text/plain": [
       "(1, 2, 3)"
      ]
     },
     "execution_count": 358,
     "metadata": {},
     "output_type": "execute_result"
    }
   ],
   "source": [
    "a = (1,2,3)\n",
    "a"
   ]
  },
  {
   "cell_type": "code",
   "execution_count": 359,
   "id": "9b53b719-8e4d-413d-a34f-bc3710ca42b9",
   "metadata": {
    "tags": []
   },
   "outputs": [
    {
     "ename": "TypeError",
     "evalue": "'tuple' object doesn't support item deletion",
     "output_type": "error",
     "traceback": [
      "\u001b[1;31m---------------------------------------------------------------------------\u001b[0m",
      "\u001b[1;31mTypeError\u001b[0m                                 Traceback (most recent call last)",
      "Cell \u001b[1;32mIn[359], line 1\u001b[0m\n\u001b[1;32m----> 1\u001b[0m \u001b[38;5;28;01mdel\u001b[39;00m a[\u001b[38;5;241m0\u001b[39m]\n\u001b[0;32m      2\u001b[0m a\n",
      "\u001b[1;31mTypeError\u001b[0m: 'tuple' object doesn't support item deletion"
     ]
    }
   ],
   "source": [
    "del a[0]"
   ]
  },
  {
   "cell_type": "code",
   "execution_count": 360,
   "id": "e5a92061-eead-48da-b6ff-d387bcc4e9fb",
   "metadata": {
    "tags": []
   },
   "outputs": [
    {
     "data": {
      "text/plain": [
       "(1, 2, 3)"
      ]
     },
     "execution_count": 360,
     "metadata": {},
     "output_type": "execute_result"
    }
   ],
   "source": [
    "# a = [1,2,3]\n",
    "# a = (1,2,3)\n",
    "a= 1,2,3\n",
    "a"
   ]
  },
  {
   "cell_type": "code",
   "execution_count": 367,
   "id": "1891155f-6c59-4aac-92b8-24b2454c8aed",
   "metadata": {
    "tags": []
   },
   "outputs": [
    {
     "data": {
      "text/plain": [
       "(1, 2)"
      ]
     },
     "execution_count": 367,
     "metadata": {},
     "output_type": "execute_result"
    }
   ],
   "source": [
    "a = 1,2\n",
    "a"
   ]
  },
  {
   "cell_type": "code",
   "execution_count": 363,
   "id": "df07c83a-7a15-49ab-ab56-25bb3e98146c",
   "metadata": {
    "tags": []
   },
   "outputs": [
    {
     "name": "stdout",
     "output_type": "stream",
     "text": [
      "1\n"
     ]
    },
    {
     "data": {
      "text/plain": [
       "2"
      ]
     },
     "execution_count": 363,
     "metadata": {},
     "output_type": "execute_result"
    }
   ],
   "source": [
    "(a, b) = (1, 2)\n",
    "print(a)\n",
    "b"
   ]
  },
  {
   "cell_type": "code",
   "execution_count": 368,
   "id": "ae3a5d29-ea4f-43f8-b7f6-8682c3b623e1",
   "metadata": {
    "tags": []
   },
   "outputs": [
    {
     "name": "stdout",
     "output_type": "stream",
     "text": [
      "1 2\n"
     ]
    }
   ],
   "source": [
    "a, b = 1, 2\n",
    "print(a,b)"
   ]
  },
  {
   "cell_type": "code",
   "execution_count": 372,
   "id": "fd084159-9f2f-4098-92a4-4c93812bce8d",
   "metadata": {
    "tags": []
   },
   "outputs": [
    {
     "data": {
      "text/plain": [
       "(1, 2, 3, 4)"
      ]
     },
     "execution_count": 372,
     "metadata": {},
     "output_type": "execute_result"
    }
   ],
   "source": [
    "a= 1,2,3\n",
    "a+(4,)"
   ]
  },
  {
   "cell_type": "code",
   "execution_count": 371,
   "id": "4c5e2987-32e7-49fc-a641-9a30db1dfd3f",
   "metadata": {
    "tags": []
   },
   "outputs": [
    {
     "ename": "AttributeError",
     "evalue": "'tuple' object has no attribute 'insert'",
     "output_type": "error",
     "traceback": [
      "\u001b[1;31m---------------------------------------------------------------------------\u001b[0m",
      "\u001b[1;31mAttributeError\u001b[0m                            Traceback (most recent call last)",
      "Cell \u001b[1;32mIn[371], line 1\u001b[0m\n\u001b[1;32m----> 1\u001b[0m \u001b[43ma\u001b[49m\u001b[38;5;241;43m.\u001b[39;49m\u001b[43minsert\u001b[49m(\u001b[38;5;241m4\u001b[39m)\n\u001b[0;32m      2\u001b[0m a\n",
      "\u001b[1;31mAttributeError\u001b[0m: 'tuple' object has no attribute 'insert'"
     ]
    }
   ],
   "source": []
  },
  {
   "cell_type": "code",
   "execution_count": null,
   "id": "84563a76-9f05-4a14-994d-1e8c87997fad",
   "metadata": {},
   "outputs": [],
   "source": []
  },
  {
   "cell_type": "code",
   "execution_count": null,
   "id": "741a0835-c6ad-4cce-b683-1fd5e850464b",
   "metadata": {},
   "outputs": [],
   "source": []
  },
  {
   "cell_type": "markdown",
   "id": "ed374af1-c306-43b2-a601-b1d05ebe0988",
   "metadata": {},
   "source": [
    "##  딕셔너리 dictionary\n",
    "\n",
    "{ key : value }"
   ]
  },
  {
   "cell_type": "code",
   "execution_count": 373,
   "id": "1b216bbd-ae5f-4967-8245-a12877244472",
   "metadata": {
    "tags": []
   },
   "outputs": [
    {
     "data": {
      "text/plain": [
       "{'apple': '사과', 'banana': '바나나', 'cherry': '체리'}"
      ]
     },
     "execution_count": 373,
     "metadata": {},
     "output_type": "execute_result"
    }
   ],
   "source": [
    "a = {\"apple\":\"사과\", \"banana\":\"바나나\", \"cherry\":\"체리\"}\n",
    "a"
   ]
  },
  {
   "cell_type": "code",
   "execution_count": 374,
   "id": "62f9d6d0-4643-4ce2-8c70-f8b85ff987d9",
   "metadata": {
    "tags": []
   },
   "outputs": [
    {
     "data": {
      "text/plain": [
       "dict"
      ]
     },
     "execution_count": 374,
     "metadata": {},
     "output_type": "execute_result"
    }
   ],
   "source": [
    "type(a)"
   ]
  },
  {
   "cell_type": "markdown",
   "id": "cfea20d4-903d-4f9a-a071-358565d44a0e",
   "metadata": {},
   "source": [
    " - 접근 read"
   ]
  },
  {
   "cell_type": "code",
   "execution_count": 375,
   "id": "e898e570-10b9-4915-a472-4c1527380221",
   "metadata": {
    "tags": []
   },
   "outputs": [
    {
     "data": {
      "text/plain": [
       "'사과'"
      ]
     },
     "execution_count": 375,
     "metadata": {},
     "output_type": "execute_result"
    }
   ],
   "source": [
    "a[\"apple\"]"
   ]
  },
  {
   "cell_type": "code",
   "execution_count": 376,
   "id": "de6622b8-a210-459a-82e8-dadbd51c5c94",
   "metadata": {
    "tags": []
   },
   "outputs": [
    {
     "data": {
      "text/plain": [
       "'체리'"
      ]
     },
     "execution_count": 376,
     "metadata": {},
     "output_type": "execute_result"
    }
   ],
   "source": [
    "a['cherry']"
   ]
  },
  {
   "cell_type": "code",
   "execution_count": 380,
   "id": "2acb12f7-1c35-43ec-ab43-fdaeef1e0dca",
   "metadata": {
    "tags": []
   },
   "outputs": [
    {
     "ename": "SyntaxError",
     "evalue": "invalid syntax (3180539845.py, line 1)",
     "output_type": "error",
     "traceback": [
      "\u001b[1;36m  Cell \u001b[1;32mIn[380], line 1\u001b[1;36m\u001b[0m\n\u001b[1;33m    a{'사과'}\u001b[0m\n\u001b[1;37m     ^\u001b[0m\n\u001b[1;31mSyntaxError\u001b[0m\u001b[1;31m:\u001b[0m invalid syntax\n"
     ]
    }
   ],
   "source": [
    "a{'사과'}                     #key에서만 찿을 수 있다."
   ]
  },
  {
   "cell_type": "code",
   "execution_count": 381,
   "id": "d66ebc5f-7ae7-4e3d-946e-b91597efa987",
   "metadata": {
    "tags": []
   },
   "outputs": [
    {
     "data": {
      "text/plain": [
       "dict_keys(['apple', 'banana', 'cherry'])"
      ]
     },
     "execution_count": 381,
     "metadata": {},
     "output_type": "execute_result"
    }
   ],
   "source": [
    "a.keys()                      #대괄호로 묶여진 것은 리스트로 나온다\n"
   ]
  },
  {
   "cell_type": "code",
   "execution_count": 384,
   "id": "3b227035-3438-4e1e-a556-ec251d874539",
   "metadata": {
    "tags": []
   },
   "outputs": [
    {
     "name": "stdout",
     "output_type": "stream",
     "text": [
      "apple\n",
      "banana\n",
      "cherry\n"
     ]
    }
   ],
   "source": [
    "for i in a.keys() : \n",
    "    print(i)"
   ]
  },
  {
   "cell_type": "code",
   "execution_count": 386,
   "id": "86dc5986-ea29-4bc2-9737-798fcac2fb01",
   "metadata": {
    "tags": []
   },
   "outputs": [
    {
     "name": "stdout",
     "output_type": "stream",
     "text": [
      "사과\n",
      "바나나\n",
      "체리\n"
     ]
    }
   ],
   "source": [
    "for i in a.keys() : \n",
    "    print(a[i])"
   ]
  },
  {
   "cell_type": "code",
   "execution_count": 395,
   "id": "bddee623-b6fd-4bbf-8e33-3bb2055d6e78",
   "metadata": {
    "tags": []
   },
   "outputs": [
    {
     "name": "stdout",
     "output_type": "stream",
     "text": [
      "사과\n",
      "바나나\n",
      "체리\n"
     ]
    }
   ],
   "source": [
    "for i in a.values():\n",
    "    print(i)"
   ]
  },
  {
   "cell_type": "code",
   "execution_count": 397,
   "id": "41810c96-ad25-4af8-b4e4-cbdfa25fa12c",
   "metadata": {
    "tags": []
   },
   "outputs": [
    {
     "name": "stdout",
     "output_type": "stream",
     "text": [
      "('apple', '사과')\n",
      "('banana', '바나나')\n",
      "('cherry', '체리')\n"
     ]
    }
   ],
   "source": [
    "for i in a.items():\n",
    "    print(i)"
   ]
  },
  {
   "cell_type": "code",
   "execution_count": 408,
   "id": "2def5133-6066-44cd-bfd2-1029071d9b08",
   "metadata": {
    "tags": []
   },
   "outputs": [
    {
     "name": "stdout",
     "output_type": "stream",
     "text": [
      "apple\n",
      "banana\n",
      "cherry\n"
     ]
    }
   ],
   "source": [
    "for i, _ in a.items():       # _는 안받아올것을 표현한다.\n",
    "    print(i)"
   ]
  },
  {
   "cell_type": "code",
   "execution_count": 413,
   "id": "1aa5296f-5d61-4fbd-a0f3-7bf70c2f4d43",
   "metadata": {
    "tags": []
   },
   "outputs": [
    {
     "data": {
      "text/plain": [
       "{'apple': ['사과', '능금', '백설공주가 먹은 과일'], 'banana': '바나나', 'cherry': '체리'}"
      ]
     },
     "execution_count": 413,
     "metadata": {},
     "output_type": "execute_result"
    }
   ],
   "source": [
    "a = {\"apple\":[\"사과\", \"능금\", \"백설공주가 먹은 과일\"], \"banana\":\"바나나\", \"cherry\":\"체리\"}\n",
    "a"
   ]
  },
  {
   "cell_type": "markdown",
   "id": "b46c6c18-f365-42fb-8e0f-c02c876bd7e9",
   "metadata": {},
   "source": [
    " - 수정하기"
   ]
  },
  {
   "cell_type": "code",
   "execution_count": 414,
   "id": "cf4af3d0-6ee7-44ea-b20a-5e87f212df0d",
   "metadata": {
    "tags": []
   },
   "outputs": [
    {
     "data": {
      "text/plain": [
       "{'apple': ['사과', '능금', '백설공주가 먹은 과일'], 'banana': '빠나나', 'cherry': '체리'}"
      ]
     },
     "execution_count": 414,
     "metadata": {},
     "output_type": "execute_result"
    }
   ],
   "source": [
    "a['banana'] = \"빠나나\"\n",
    "a"
   ]
  },
  {
   "cell_type": "code",
   "execution_count": 415,
   "id": "e0843ee4-82ed-4bb6-a2b8-aca40a85442d",
   "metadata": {
    "tags": []
   },
   "outputs": [
    {
     "data": {
      "text/plain": [
       "{'apple': ['사과', '능금', '백설공주가 먹은 과일'], 'cherry': '체리'}"
      ]
     },
     "execution_count": 415,
     "metadata": {},
     "output_type": "execute_result"
    }
   ],
   "source": [
    "del a['banana']\n",
    "a"
   ]
  },
  {
   "cell_type": "code",
   "execution_count": 416,
   "id": "ea194635-4446-4655-8ae4-e5e28ed2b5b7",
   "metadata": {
    "tags": []
   },
   "outputs": [
    {
     "data": {
      "text/plain": [
       "{'apple': ['사과', '능금', '백설공주가 먹은 과일'], 'cherry': '체리', 'banana': '바나나'}"
      ]
     },
     "execution_count": 416,
     "metadata": {},
     "output_type": "execute_result"
    }
   ],
   "source": [
    "a['banana'] = '바나나'\n",
    "a"
   ]
  },
  {
   "cell_type": "markdown",
   "id": "9d4e1429-4db6-44d5-9612-9dcc38a061fb",
   "metadata": {},
   "source": [
    "#####################################p112 #######################"
   ]
  },
  {
   "cell_type": "code",
   "execution_count": 423,
   "id": "d33545f7-b541-4284-864c-4de9b7762a4e",
   "metadata": {
    "tags": []
   },
   "outputs": [
    {
     "name": "stdout",
     "output_type": "stream",
     "text": [
      "70.0\n"
     ]
    }
   ],
   "source": [
    "# q1\n",
    "sub = {\"kor\":80, \"english\":75, \"math\":55}\n",
    "sum = sub['kor'] + sub['english'] + sub['math']\n",
    "mean = sum/3\n",
    "print(mean) "
   ]
  },
  {
   "cell_type": "code",
   "execution_count": 435,
   "id": "2ea910f3-9832-4598-83ed-7fdd14866216",
   "metadata": {
    "tags": []
   },
   "outputs": [
    {
     "name": "stdout",
     "output_type": "stream",
     "text": [
      "홀수\n"
     ]
    }
   ],
   "source": [
    "#q2      13이 짝수인지 홀수 인지 알아보자\n",
    "num = 13\n",
    "if num % 2 == 0:\n",
    "    print('짝수')\n",
    "else :\n",
    "    print('홀수')"
   ]
  },
  {
   "cell_type": "code",
   "execution_count": 434,
   "id": "8bf9d44f-c361-4824-8fca-9a1a3703bfb0",
   "metadata": {
    "tags": []
   },
   "outputs": [
    {
     "name": "stdin",
     "output_type": "stream",
     "text": [
      "숫자를 입력하세요 :  1\n"
     ]
    },
    {
     "name": "stdout",
     "output_type": "stream",
     "text": [
      "홀수입니다.\n"
     ]
    }
   ],
   "source": [
    "number = int(input(\"숫자를 입력하세요 : \"))\n",
    "if number % 2 == 0:\n",
    "    print(\"짝수입니다.\")\n",
    "else:\n",
    "    print(\"홀수입니다.\")"
   ]
  },
  {
   "cell_type": "code",
   "execution_count": 430,
   "id": "6f2b1383-d387-4000-8544-bda6d4da7bdf",
   "metadata": {
    "tags": []
   },
   "outputs": [
    {
     "name": "stdout",
     "output_type": "stream",
     "text": [
      "881120\n",
      "1068234\n"
     ]
    }
   ],
   "source": [
    "#q3\n",
    "pin = \"881120-1068234\"\n",
    "yyyymmdd = pin[0:6]\n",
    "num = pin[-7:]\n",
    "print(yyyymmdd)\n",
    "print(num)"
   ]
  },
  {
   "cell_type": "code",
   "execution_count": 445,
   "id": "075abb78-f0da-4d92-bf5e-bb353a5a88d0",
   "metadata": {
    "tags": []
   },
   "outputs": [
    {
     "name": "stdout",
     "output_type": "stream",
     "text": [
      "남자\n"
     ]
    }
   ],
   "source": [
    "#q4\n",
    "pin = \"881120-1068234\"\n",
    "if pin[7] == \"1\" or pin[7] == \"3\":\n",
    "    print(\"남자\")    \n",
    "else:\n",
    "    print(\"여자\")\n",
    "    "
   ]
  },
  {
   "cell_type": "code",
   "execution_count": 440,
   "id": "f1db774b-32c6-4ef7-a6b5-3efe7ac32559",
   "metadata": {
    "tags": []
   },
   "outputs": [
    {
     "name": "stdout",
     "output_type": "stream",
     "text": [
      "남자\n"
     ]
    }
   ],
   "source": [
    "pin = \"881120-1068234\"\n",
    "\n",
    "if int(pin[7]) % 2 == 1:\n",
    "    print(\"남자\")\n",
    "else:\n",
    "    print(\"여자\")"
   ]
  },
  {
   "cell_type": "code",
   "execution_count": 452,
   "id": "74145e18-5335-4e64-b3b4-059d61a7457f",
   "metadata": {
    "tags": []
   },
   "outputs": [
    {
     "name": "stdout",
     "output_type": "stream",
     "text": [
      "남자\n"
     ]
    }
   ],
   "source": [
    "pin = \"881120-3068234\"\n",
    "if pin[7] == [\"1\"] or [\"3\"]:\n",
    "    print(\"남자\")    \n",
    "else:\n",
    "    print(\"여자\")\n",
    "    "
   ]
  },
  {
   "cell_type": "code",
   "execution_count": 453,
   "id": "9b3dcb03-21bb-4b12-bc2a-75d8aa24b88b",
   "metadata": {
    "tags": []
   },
   "outputs": [
    {
     "name": "stdout",
     "output_type": "stream",
     "text": [
      "a#b#c#d\n"
     ]
    }
   ],
   "source": [
    "#q5\n",
    "a = \"a:b:c:d\"\n",
    "b = a.replace(':','#')\n",
    "print(b)"
   ]
  },
  {
   "cell_type": "code",
   "execution_count": 462,
   "id": "a7cec1b7-3d5f-4de1-a2d8-0bf4c44c6511",
   "metadata": {
    "tags": []
   },
   "outputs": [
    {
     "name": "stdout",
     "output_type": "stream",
     "text": [
      "[5, 4, 3, 2, 1]\n"
     ]
    }
   ],
   "source": [
    "#q6\n",
    "a = [1,3,5,4,2]\n",
    "a.sort()\n",
    "a.reverse()\n",
    "print(a)"
   ]
  },
  {
   "cell_type": "code",
   "execution_count": 465,
   "id": "c263ead7-1e5a-4f0e-9b67-92f696f4b754",
   "metadata": {
    "tags": []
   },
   "outputs": [
    {
     "name": "stdout",
     "output_type": "stream",
     "text": [
      "life is too short\n"
     ]
    }
   ],
   "source": [
    "#7\n",
    "a = ['life', 'is', 'too', 'short']\n",
    "result = \" \".join(a)\n",
    "print(result)"
   ]
  },
  {
   "cell_type": "code",
   "execution_count": 469,
   "id": "8a1e0f1e-c133-4de4-8f47-6bca80a99bc4",
   "metadata": {
    "tags": []
   },
   "outputs": [
    {
     "name": "stdout",
     "output_type": "stream",
     "text": [
      "(1, 2, 3, 4)\n"
     ]
    }
   ],
   "source": [
    "#q8\n",
    "a = (1,2,3)\n",
    "a = a +(4,)\n",
    "print(a)"
   ]
  },
  {
   "cell_type": "code",
   "execution_count": 480,
   "id": "28ed4dc4-7af3-4f39-b444-15762ccda901",
   "metadata": {
    "tags": []
   },
   "outputs": [
    {
     "name": "stdout",
     "output_type": "stream",
     "text": [
      "{'A': 90, 'C': 70}\n",
      "80\n"
     ]
    }
   ],
   "source": [
    "#10\n",
    "a = {'A':90,'B':80,'C':70}\n",
    "\n",
    "result = a.pop('B')\n",
    "print(a)\n",
    "print(result)"
   ]
  },
  {
   "cell_type": "code",
   "execution_count": 481,
   "id": "55ac00e3-ec05-4916-8cb4-b29d5ede4be8",
   "metadata": {
    "tags": []
   },
   "outputs": [
    {
     "name": "stdout",
     "output_type": "stream",
     "text": [
      "[1, 2, 3, 4, 5]\n"
     ]
    }
   ],
   "source": [
    "#q11\n",
    "a = [1,1,1,2,2,3,3,3,4,4,5]\n",
    "aSet = set(a)\n",
    "b = list(aSet)\n",
    "print(b)"
   ]
  },
  {
   "cell_type": "code",
   "execution_count": null,
   "id": "f2257fc1-acde-46a1-9f52-7f8b7bd297b8",
   "metadata": {},
   "outputs": [],
   "source": []
  },
  {
   "cell_type": "code",
   "execution_count": null,
   "id": "69d14492-4959-42a3-a5c1-52430e3e8867",
   "metadata": {},
   "outputs": [],
   "source": []
  },
  {
   "cell_type": "code",
   "execution_count": null,
   "id": "57b98ef8-1eed-41ac-a910-eb7f2849e5da",
   "metadata": {},
   "outputs": [],
   "source": []
  },
  {
   "cell_type": "code",
   "execution_count": null,
   "id": "218b9465-4093-4674-8c5d-ed1018ebb26e",
   "metadata": {},
   "outputs": [],
   "source": []
  },
  {
   "cell_type": "code",
   "execution_count": null,
   "id": "45586cb1-69ab-46e3-981d-749bce605b18",
   "metadata": {},
   "outputs": [],
   "source": []
  },
  {
   "cell_type": "code",
   "execution_count": null,
   "id": "e66a55ef-4052-4117-bc82-ded41ce312bf",
   "metadata": {},
   "outputs": [],
   "source": []
  },
  {
   "cell_type": "code",
   "execution_count": null,
   "id": "dbab4646-a3b3-44a7-a847-229e4abc35be",
   "metadata": {},
   "outputs": [],
   "source": []
  },
  {
   "cell_type": "code",
   "execution_count": null,
   "id": "b965207e-4a5a-4073-ba04-b00db531ee2c",
   "metadata": {},
   "outputs": [],
   "source": []
  },
  {
   "cell_type": "markdown",
   "id": "7f641ea7-20a2-40d7-bbca-fafa9b2468ba",
   "metadata": {},
   "source": [
    "\n",
    "\n",
    "################################################################################\n",
    "#################################과제 만들기 ######################################\n",
    "\n"
   ]
  },
  {
   "cell_type": "markdown",
   "id": "6d6f4121-8e54-408b-80b2-08cf4dbb9bd2",
   "metadata": {},
   "source": []
  },
  {
   "cell_type": "code",
   "execution_count": null,
   "id": "4edc9e3d-e78f-440a-909d-e6a452c317f6",
   "metadata": {
    "tags": []
   },
   "outputs": [],
   "source": []
  },
  {
   "cell_type": "code",
   "execution_count": null,
   "id": "bb5e79f9-cf58-470a-a073-a1630e6b8b23",
   "metadata": {},
   "outputs": [],
   "source": []
  },
  {
   "cell_type": "code",
   "execution_count": null,
   "id": "19994fbf-26a2-4204-9c5f-9ffcc8e73eb6",
   "metadata": {
    "tags": []
   },
   "outputs": [],
   "source": []
  },
  {
   "cell_type": "code",
   "execution_count": null,
   "id": "09fefb16-2b32-4edf-9c3e-fd51951e7cb6",
   "metadata": {
    "tags": []
   },
   "outputs": [],
   "source": []
  },
  {
   "cell_type": "code",
   "execution_count": null,
   "id": "aaabf974-4cc4-42cc-b666-ba4d68665b6b",
   "metadata": {
    "tags": []
   },
   "outputs": [],
   "source": []
  },
  {
   "cell_type": "code",
   "execution_count": null,
   "id": "91a0bb80-d481-4682-914c-2cc057319e22",
   "metadata": {
    "tags": []
   },
   "outputs": [],
   "source": []
  },
  {
   "cell_type": "code",
   "execution_count": 492,
   "id": "6651fada-75e5-452d-9917-585b19b5b878",
   "metadata": {
    "tags": []
   },
   "outputs": [
    {
     "name": "stdin",
     "output_type": "stream",
     "text": [
      "돈이 얼마나 있나요?  10000\n"
     ]
    },
    {
     "name": "stdout",
     "output_type": "stream",
     "text": [
      "택시를 타고 가세요.\n"
     ]
    }
   ],
   "source": [
    "#10000원 이상있으면 택시타고 미만이면 걸어간다.\n",
    "\n",
    "\n",
    "money = int(input(\"돈이 얼마나 있나요? \"))\n",
    "\n",
    "if money >= 10000:\n",
    "    print(\"택시를 타고 가세요.\")\n",
    "else:\n",
    "    print(\"걸어가세요.\")"
   ]
  },
  {
   "cell_type": "code",
   "execution_count": 483,
   "id": "028d0c50-6631-462c-8251-9c9b323e542b",
   "metadata": {
    "tags": []
   },
   "outputs": [
    {
     "name": "stdout",
     "output_type": "stream",
     "text": [
      "010-1234-5678\n",
      "010-1234-5678\n",
      "010-2345-6789\n",
      "010-3456-7890\n",
      "010-4567-7891\n"
     ]
    }
   ],
   "source": [
    "# 딕셔너리 문제 만들기\n",
    "# 1. 홍길동 의 전화번호 출력\n",
    "# 2. 박민수 의 전화번호 추가\n",
    "# 3. 'phone_book'에 저장된 모든 전화번호 출력\n",
    "\n",
    "phone_book = {\n",
    "    \"홍길동\": \"010-1234-5678\",\n",
    "    \"김철수\": \"010-2345-6789\",\n",
    "    \"이영희\": \"010-3456-7890\"\n",
    "}\n",
    "\n",
    "print(phone_book['홍길동'])\n",
    "phone_book[\"박민수\"] = '010-4567-7891'\n",
    "\n",
    "for name, number in phone_book.items(): \n",
    "    print(number)"
   ]
  },
  {
   "cell_type": "code",
   "execution_count": null,
   "id": "8c1505f0-3da1-4cba-8839-6472a63c6eeb",
   "metadata": {},
   "outputs": [],
   "source": []
  },
  {
   "cell_type": "code",
   "execution_count": null,
   "id": "b9ad5e72-7517-4380-a2e9-f1e05c39b99c",
   "metadata": {},
   "outputs": [],
   "source": []
  },
  {
   "cell_type": "code",
   "execution_count": null,
   "id": "beb40801-3647-42aa-9dd0-fce6eaa102fc",
   "metadata": {},
   "outputs": [],
   "source": []
  },
  {
   "cell_type": "code",
   "execution_count": null,
   "id": "dddf78b4-c898-4119-8a5e-3bab37b37ee7",
   "metadata": {},
   "outputs": [],
   "source": []
  },
  {
   "cell_type": "code",
   "execution_count": null,
   "id": "fd4e1036-96db-4a75-8e83-c70b27093534",
   "metadata": {},
   "outputs": [],
   "source": []
  },
  {
   "cell_type": "code",
   "execution_count": null,
   "id": "2393936e-385a-43b3-a0b9-11d501c668ba",
   "metadata": {},
   "outputs": [],
   "source": []
  },
  {
   "cell_type": "markdown",
   "id": "aebf8248-2954-4755-8429-308881acd0c6",
   "metadata": {},
   "source": [
    "##############################################################################\n",
    "##############################################################################"
   ]
  },
  {
   "cell_type": "code",
   "execution_count": null,
   "id": "65d78019-29b1-47bc-bcf1-7a7d0d50acc3",
   "metadata": {},
   "outputs": [],
   "source": []
  },
  {
   "cell_type": "code",
   "execution_count": null,
   "id": "6cd17c2e-c94b-42e2-8343-fbee042c9223",
   "metadata": {},
   "outputs": [],
   "source": []
  },
  {
   "cell_type": "code",
   "execution_count": null,
   "id": "bf131e57-ad48-4395-955d-7d0d5d4ac14c",
   "metadata": {},
   "outputs": [],
   "source": []
  },
  {
   "cell_type": "code",
   "execution_count": null,
   "id": "54261cd8-a364-4238-9f46-6996ad621d67",
   "metadata": {
    "tags": []
   },
   "outputs": [],
   "source": []
  },
  {
   "cell_type": "code",
   "execution_count": null,
   "id": "07ead287-7ac3-46a3-9f23-fa5111b6a204",
   "metadata": {},
   "outputs": [],
   "source": []
  },
  {
   "cell_type": "code",
   "execution_count": null,
   "id": "721de330-4fc4-42e6-bc07-9205397a3afd",
   "metadata": {},
   "outputs": [],
   "source": []
  },
  {
   "cell_type": "code",
   "execution_count": null,
   "id": "8b07b914-a0ba-4f94-9a0a-b58c37f72e61",
   "metadata": {},
   "outputs": [],
   "source": []
  },
  {
   "cell_type": "markdown",
   "id": "6c770acb-3c37-47ae-a94a-2b506a1fc76c",
   "metadata": {},
   "source": [
    "## 제 1절"
   ]
  },
  {
   "cell_type": "code",
   "execution_count": null,
   "id": "ce6b0579-7ce1-4af7-85b1-fb2d45e1562b",
   "metadata": {},
   "outputs": [],
   "source": []
  },
  {
   "cell_type": "markdown",
   "id": "0a854b43-19c5-4f8a-8137-e74afa9d41c8",
   "metadata": {},
   "source": [
    "# 제 2장"
   ]
  },
  {
   "cell_type": "code",
   "execution_count": null,
   "id": "a0b29594-b805-4400-9dfc-9d7981781655",
   "metadata": {},
   "outputs": [],
   "source": []
  }
 ],
 "metadata": {
  "kernelspec": {
   "display_name": "Python 3 (ipykernel)",
   "language": "python",
   "name": "python3"
  },
  "language_info": {
   "codemirror_mode": {
    "name": "ipython",
    "version": 3
   },
   "file_extension": ".py",
   "mimetype": "text/x-python",
   "name": "python",
   "nbconvert_exporter": "python",
   "pygments_lexer": "ipython3",
   "version": "3.10.9"
  },
  "toc-autonumbering": true
 },
 "nbformat": 4,
 "nbformat_minor": 5
}
